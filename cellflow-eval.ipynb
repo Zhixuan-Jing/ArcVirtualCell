{
 "cells": [
  {
   "cell_type": "code",
   "execution_count": 12,
   "id": "b61ac2e7",
   "metadata": {},
   "outputs": [],
   "source": [
    "import scanpy as sc\n",
    "from cellflow.model import CellFlow\n",
    "import requests\n",
    "import pandas as pd\n",
    "import anndata\n",
    "import pickle\n",
    "import numpy as np"
   ]
  },
  {
   "cell_type": "code",
   "execution_count": 2,
   "id": "c559e2d8",
   "metadata": {},
   "outputs": [
    {
     "data": {
      "text/plain": [
       "<cellflow.model._cellflow.CellFlow at 0x167d87b60>"
      ]
     },
     "execution_count": 2,
     "metadata": {},
     "output_type": "execute_result"
    }
   ],
   "source": [
    "# Use vcc benchmark to evaluate cellflow\n",
    "# load model\n",
    "model = \"cf-128-256\"\n",
    "with open(f\"models/{model}_CellFlow.pkl\", \"rb\") as f:\n",
    "    cf = pickle.load(f)\n",
    "cf"
   ]
  },
  {
   "cell_type": "code",
   "execution_count": 20,
   "id": "c7bf05cc",
   "metadata": {},
   "outputs": [],
   "source": [
    "# load evaluation dataset\n",
    "adata = sc.read_h5ad(\"../vcc_sample.h5ad\")\n",
    "adata.obs['control'] = [(lambda x: True if x == \"non-targeting\" else False)(x) for x in adata.obs['target_gene']]"
   ]
  },
  {
   "cell_type": "code",
   "execution_count": 15,
   "id": "ef929e6c",
   "metadata": {},
   "outputs": [],
   "source": [
    "with open(\"result.pkl\", \"rb\") as f:\n",
    "    res = pickle.load(f)"
   ]
  },
  {
   "cell_type": "code",
   "execution_count": 16,
   "id": "fbedfb98",
   "metadata": {},
   "outputs": [
    {
     "data": {
      "text/plain": [
       "{('ACVR1B',\n",
       "  'Flex_1_10'): array([-2.1314578, 11.54824  , -6.2045865, ..., -1.4024506, 37.870556 ,\n",
       "        21.253637 ], shape=(18080,), dtype=float32),\n",
       " ('AKT2',\n",
       "  'Flex_1_10'): array([-2.2784128, 11.703699 , -6.2390676, ..., -1.3739402, 37.90741  ,\n",
       "        21.204565 ], shape=(18080,), dtype=float32),\n",
       " ('BIRC2',\n",
       "  'Flex_1_10'): array([-2.11576  , 11.575914 , -6.0469007, ..., -1.4226235, 37.842266 ,\n",
       "        21.233704 ], shape=(18080,), dtype=float32),\n",
       " ('CLDN6',\n",
       "  'Flex_1_10'): array([-2.2154608, 11.593581 , -6.222178 , ..., -1.3817397, 37.82464  ,\n",
       "        21.341343 ], shape=(18080,), dtype=float32),\n",
       " ('HMGN1',\n",
       "  'Flex_1_10'): array([-1.8522832, 11.606814 , -6.1460853, ..., -1.4817802, 37.786625 ,\n",
       "        21.416567 ], shape=(18080,), dtype=float32),\n",
       " ('IGF2R',\n",
       "  'Flex_1_10'): array([-1.9916604, 11.651579 , -6.0800247, ..., -1.350852 , 37.804886 ,\n",
       "        21.286856 ], shape=(18080,), dtype=float32),\n",
       " ('INSIG1',\n",
       "  'Flex_1_10'): array([-1.9329021, 11.55033  , -6.0384765, ..., -1.4020823, 37.791622 ,\n",
       "        21.385475 ], shape=(18080,), dtype=float32),\n",
       " ('KAT2A',\n",
       "  'Flex_1_10'): array([-2.0095975, 11.610134 , -6.0685186, ..., -1.4276928, 37.77413  ,\n",
       "        21.269825 ], shape=(18080,), dtype=float32),\n",
       " ('KDR',\n",
       "  'Flex_1_10'): array([-2.030018 , 11.529935 , -6.1207414, ..., -1.4106929, 37.822098 ,\n",
       "        21.211992 ], shape=(18080,), dtype=float32),\n",
       " ('OXCT1',\n",
       "  'Flex_1_10'): array([-2.071483 , 11.552464 , -6.0534687, ..., -1.3588545, 37.76092  ,\n",
       "        21.345598 ], shape=(18080,), dtype=float32),\n",
       " ('POLB',\n",
       "  'Flex_1_10'): array([-2.18674  , 11.755813 , -6.2201037, ..., -1.4017026, 37.750362 ,\n",
       "        21.253145 ], shape=(18080,), dtype=float32),\n",
       " ('TADA1',\n",
       "  'Flex_1_10'): array([-2.1525452, 11.689055 , -6.2118077, ..., -1.4030015, 37.844746 ,\n",
       "        21.202593 ], shape=(18080,), dtype=float32),\n",
       " ('WFS1',\n",
       "  'Flex_1_10'): array([-1.9980431, 11.61449  , -6.1276193, ..., -1.388507 , 37.785667 ,\n",
       "        21.281412 ], shape=(18080,), dtype=float32)}"
      ]
     },
     "execution_count": 16,
     "metadata": {},
     "output_type": "execute_result"
    }
   ],
   "source": [
    "for k in res.keys():\n",
    "    res[k] = np.sum(res[k],axis = 0)\n",
    "res"
   ]
  },
  {
   "cell_type": "code",
   "execution_count": 18,
   "id": "e991a702",
   "metadata": {},
   "outputs": [
    {
     "data": {
      "text/plain": [
       "['non-targeting', 'PAGR1', 'TCF3', 'NCK2', 'GSK3B', ..., 'SLC39A6', 'BRD9', 'SNCA', 'SUPT4H1', 'KIF20A']\n",
       "Length: 147\n",
       "Categories (147, object): ['ACAT2', 'ACVR1B', 'AKT2', 'ANTXR1', ..., 'ZNF562', 'ZNF593', 'ZNF714', 'non-targeting']"
      ]
     },
     "execution_count": 18,
     "metadata": {},
     "output_type": "execute_result"
    }
   ],
   "source": [
    "cf.adata.obs['target_gene'].unique()"
   ]
  },
  {
   "cell_type": "code",
   "execution_count": 19,
   "id": "f29cf7ed",
   "metadata": {},
   "outputs": [
    {
     "data": {
      "text/plain": [
       "['non-targeting']\n",
       "Categories (1, object): ['non-targeting']"
      ]
     },
     "execution_count": 19,
     "metadata": {},
     "output_type": "execute_result"
    }
   ],
   "source": [
    "adata.obs['target_gene'].unique()"
   ]
  },
  {
   "cell_type": "code",
   "execution_count": 23,
   "id": "2f837e5b",
   "metadata": {},
   "outputs": [],
   "source": [
    "with open(\"subsample_gene_embedding.pkl\", \"rb\") as f:\n",
    "    embedding = pickle.load(f)\n",
    "cf.adata.uns['embedding'] = embedding"
   ]
  },
  {
   "cell_type": "code",
   "execution_count": 27,
   "id": "be06c34d",
   "metadata": {},
   "outputs": [],
   "source": [
    "test_genes = [x[0] for x in res.keys()]"
   ]
  },
  {
   "cell_type": "code",
   "execution_count": null,
   "id": "0740d04c",
   "metadata": {},
   "outputs": [
    {
     "data": {
      "text/plain": [
       "13"
      ]
     },
     "execution_count": 39,
     "metadata": {},
     "output_type": "execute_result"
    }
   ],
   "source": [
    "l"
   ]
  },
  {
   "cell_type": "code",
   "execution_count": 28,
   "id": "3cc74efa",
   "metadata": {},
   "outputs": [],
   "source": [
    "eval_set = adata[adata.obs['target_gene'].isin(test_genes)]"
   ]
  },
  {
   "cell_type": "code",
   "execution_count": 32,
   "id": "45523dd9",
   "metadata": {},
   "outputs": [
    {
     "data": {
      "text/plain": [
       "<Compressed Sparse Row sparse matrix of dtype 'float32'\n",
       "\twith 83775793 stored elements and shape (9557, 18080)>"
      ]
     },
     "execution_count": 32,
     "metadata": {},
     "output_type": "execute_result"
    }
   ],
   "source": [
    "eval_set.X"
   ]
  },
  {
   "cell_type": "code",
   "execution_count": 34,
   "id": "b748a11f",
   "metadata": {},
   "outputs": [
    {
     "data": {
      "text/html": [
       "<div>\n",
       "<style scoped>\n",
       "    .dataframe tbody tr th:only-of-type {\n",
       "        vertical-align: middle;\n",
       "    }\n",
       "\n",
       "    .dataframe tbody tr th {\n",
       "        vertical-align: top;\n",
       "    }\n",
       "\n",
       "    .dataframe thead th {\n",
       "        text-align: right;\n",
       "    }\n",
       "</style>\n",
       "<table border=\"1\" class=\"dataframe\">\n",
       "  <thead>\n",
       "    <tr style=\"text-align: right;\">\n",
       "      <th></th>\n",
       "      <th>SAMD11</th>\n",
       "      <th>NOC2L</th>\n",
       "      <th>KLHL17</th>\n",
       "      <th>PLEKHN1</th>\n",
       "      <th>PERM1</th>\n",
       "      <th>HES4</th>\n",
       "      <th>ISG15</th>\n",
       "      <th>AGRN</th>\n",
       "      <th>RNF223</th>\n",
       "      <th>C1orf159</th>\n",
       "      <th>...</th>\n",
       "      <th>MT-CO2</th>\n",
       "      <th>MT-ATP6</th>\n",
       "      <th>MT-CO3</th>\n",
       "      <th>MT-ND3</th>\n",
       "      <th>MT-ND4L</th>\n",
       "      <th>MT-ND4</th>\n",
       "      <th>MT-ND5</th>\n",
       "      <th>MT-ND6</th>\n",
       "      <th>MT-CYB</th>\n",
       "      <th>target_gene</th>\n",
       "    </tr>\n",
       "  </thead>\n",
       "  <tbody>\n",
       "    <tr>\n",
       "      <th>TTCCATTGTTGGTTTAAACGCCGA-Flex_2_15</th>\n",
       "      <td>0.0</td>\n",
       "      <td>1.0</td>\n",
       "      <td>0.0</td>\n",
       "      <td>0.0</td>\n",
       "      <td>0.0</td>\n",
       "      <td>0.0</td>\n",
       "      <td>1.0</td>\n",
       "      <td>4.0</td>\n",
       "      <td>0.0</td>\n",
       "      <td>0.0</td>\n",
       "      <td>...</td>\n",
       "      <td>10.0</td>\n",
       "      <td>3.0</td>\n",
       "      <td>2.0</td>\n",
       "      <td>10.0</td>\n",
       "      <td>0.0</td>\n",
       "      <td>7.0</td>\n",
       "      <td>0.0</td>\n",
       "      <td>0.0</td>\n",
       "      <td>2.0</td>\n",
       "      <td>HMGN1</td>\n",
       "    </tr>\n",
       "    <tr>\n",
       "      <th>GAGGTTTAGGTTCGAGAGTGAGTG-Flex_2_10</th>\n",
       "      <td>0.0</td>\n",
       "      <td>1.0</td>\n",
       "      <td>1.0</td>\n",
       "      <td>0.0</td>\n",
       "      <td>0.0</td>\n",
       "      <td>0.0</td>\n",
       "      <td>0.0</td>\n",
       "      <td>5.0</td>\n",
       "      <td>0.0</td>\n",
       "      <td>0.0</td>\n",
       "      <td>...</td>\n",
       "      <td>3.0</td>\n",
       "      <td>8.0</td>\n",
       "      <td>7.0</td>\n",
       "      <td>19.0</td>\n",
       "      <td>0.0</td>\n",
       "      <td>13.0</td>\n",
       "      <td>0.0</td>\n",
       "      <td>2.0</td>\n",
       "      <td>3.0</td>\n",
       "      <td>IGF2R</td>\n",
       "    </tr>\n",
       "    <tr>\n",
       "      <th>AGGTGGGAGGATGTTAATCATGTG-Flex_2_14</th>\n",
       "      <td>0.0</td>\n",
       "      <td>3.0</td>\n",
       "      <td>1.0</td>\n",
       "      <td>0.0</td>\n",
       "      <td>0.0</td>\n",
       "      <td>0.0</td>\n",
       "      <td>2.0</td>\n",
       "      <td>9.0</td>\n",
       "      <td>0.0</td>\n",
       "      <td>0.0</td>\n",
       "      <td>...</td>\n",
       "      <td>19.0</td>\n",
       "      <td>29.0</td>\n",
       "      <td>15.0</td>\n",
       "      <td>30.0</td>\n",
       "      <td>1.0</td>\n",
       "      <td>40.0</td>\n",
       "      <td>0.0</td>\n",
       "      <td>2.0</td>\n",
       "      <td>3.0</td>\n",
       "      <td>KDR</td>\n",
       "    </tr>\n",
       "    <tr>\n",
       "      <th>TCTTCATGTGCGATAAACTACTCA-Flex_3_12</th>\n",
       "      <td>0.0</td>\n",
       "      <td>3.0</td>\n",
       "      <td>0.0</td>\n",
       "      <td>0.0</td>\n",
       "      <td>0.0</td>\n",
       "      <td>0.0</td>\n",
       "      <td>1.0</td>\n",
       "      <td>2.0</td>\n",
       "      <td>0.0</td>\n",
       "      <td>0.0</td>\n",
       "      <td>...</td>\n",
       "      <td>1.0</td>\n",
       "      <td>1.0</td>\n",
       "      <td>1.0</td>\n",
       "      <td>3.0</td>\n",
       "      <td>0.0</td>\n",
       "      <td>2.0</td>\n",
       "      <td>0.0</td>\n",
       "      <td>0.0</td>\n",
       "      <td>1.0</td>\n",
       "      <td>ACVR1B</td>\n",
       "    </tr>\n",
       "    <tr>\n",
       "      <th>GGGTTGGGTCATCCTCATTCGGTT-Flex_1_16</th>\n",
       "      <td>0.0</td>\n",
       "      <td>0.0</td>\n",
       "      <td>0.0</td>\n",
       "      <td>0.0</td>\n",
       "      <td>0.0</td>\n",
       "      <td>0.0</td>\n",
       "      <td>0.0</td>\n",
       "      <td>3.0</td>\n",
       "      <td>0.0</td>\n",
       "      <td>0.0</td>\n",
       "      <td>...</td>\n",
       "      <td>3.0</td>\n",
       "      <td>3.0</td>\n",
       "      <td>5.0</td>\n",
       "      <td>5.0</td>\n",
       "      <td>0.0</td>\n",
       "      <td>6.0</td>\n",
       "      <td>0.0</td>\n",
       "      <td>1.0</td>\n",
       "      <td>2.0</td>\n",
       "      <td>KAT2A</td>\n",
       "    </tr>\n",
       "    <tr>\n",
       "      <th>...</th>\n",
       "      <td>...</td>\n",
       "      <td>...</td>\n",
       "      <td>...</td>\n",
       "      <td>...</td>\n",
       "      <td>...</td>\n",
       "      <td>...</td>\n",
       "      <td>...</td>\n",
       "      <td>...</td>\n",
       "      <td>...</td>\n",
       "      <td>...</td>\n",
       "      <td>...</td>\n",
       "      <td>...</td>\n",
       "      <td>...</td>\n",
       "      <td>...</td>\n",
       "      <td>...</td>\n",
       "      <td>...</td>\n",
       "      <td>...</td>\n",
       "      <td>...</td>\n",
       "      <td>...</td>\n",
       "      <td>...</td>\n",
       "      <td>...</td>\n",
       "    </tr>\n",
       "    <tr>\n",
       "      <th>AGCATCCTCATGGTCCATACGTCA-Flex_2_13</th>\n",
       "      <td>0.0</td>\n",
       "      <td>0.0</td>\n",
       "      <td>0.0</td>\n",
       "      <td>0.0</td>\n",
       "      <td>0.0</td>\n",
       "      <td>0.0</td>\n",
       "      <td>2.0</td>\n",
       "      <td>7.0</td>\n",
       "      <td>0.0</td>\n",
       "      <td>0.0</td>\n",
       "      <td>...</td>\n",
       "      <td>9.0</td>\n",
       "      <td>6.0</td>\n",
       "      <td>3.0</td>\n",
       "      <td>3.0</td>\n",
       "      <td>0.0</td>\n",
       "      <td>5.0</td>\n",
       "      <td>0.0</td>\n",
       "      <td>2.0</td>\n",
       "      <td>1.0</td>\n",
       "      <td>HMGN1</td>\n",
       "    </tr>\n",
       "    <tr>\n",
       "      <th>AGCGAACGTAACTACCAACGGGAA-Flex_2_02</th>\n",
       "      <td>0.0</td>\n",
       "      <td>0.0</td>\n",
       "      <td>0.0</td>\n",
       "      <td>0.0</td>\n",
       "      <td>0.0</td>\n",
       "      <td>0.0</td>\n",
       "      <td>2.0</td>\n",
       "      <td>3.0</td>\n",
       "      <td>0.0</td>\n",
       "      <td>1.0</td>\n",
       "      <td>...</td>\n",
       "      <td>11.0</td>\n",
       "      <td>10.0</td>\n",
       "      <td>6.0</td>\n",
       "      <td>16.0</td>\n",
       "      <td>0.0</td>\n",
       "      <td>13.0</td>\n",
       "      <td>1.0</td>\n",
       "      <td>1.0</td>\n",
       "      <td>3.0</td>\n",
       "      <td>IGF2R</td>\n",
       "    </tr>\n",
       "    <tr>\n",
       "      <th>CCTATGGGTTACCGTGAAGTAGAG-Flex_2_07</th>\n",
       "      <td>0.0</td>\n",
       "      <td>0.0</td>\n",
       "      <td>0.0</td>\n",
       "      <td>0.0</td>\n",
       "      <td>0.0</td>\n",
       "      <td>0.0</td>\n",
       "      <td>0.0</td>\n",
       "      <td>4.0</td>\n",
       "      <td>0.0</td>\n",
       "      <td>0.0</td>\n",
       "      <td>...</td>\n",
       "      <td>16.0</td>\n",
       "      <td>20.0</td>\n",
       "      <td>11.0</td>\n",
       "      <td>10.0</td>\n",
       "      <td>0.0</td>\n",
       "      <td>16.0</td>\n",
       "      <td>0.0</td>\n",
       "      <td>4.0</td>\n",
       "      <td>3.0</td>\n",
       "      <td>IGF2R</td>\n",
       "    </tr>\n",
       "    <tr>\n",
       "      <th>CCAAACCTCTTTAGCGAGCTGTGA-Flex_3_08</th>\n",
       "      <td>0.0</td>\n",
       "      <td>4.0</td>\n",
       "      <td>0.0</td>\n",
       "      <td>0.0</td>\n",
       "      <td>0.0</td>\n",
       "      <td>0.0</td>\n",
       "      <td>4.0</td>\n",
       "      <td>16.0</td>\n",
       "      <td>0.0</td>\n",
       "      <td>0.0</td>\n",
       "      <td>...</td>\n",
       "      <td>4.0</td>\n",
       "      <td>6.0</td>\n",
       "      <td>0.0</td>\n",
       "      <td>5.0</td>\n",
       "      <td>0.0</td>\n",
       "      <td>7.0</td>\n",
       "      <td>0.0</td>\n",
       "      <td>2.0</td>\n",
       "      <td>0.0</td>\n",
       "      <td>KDR</td>\n",
       "    </tr>\n",
       "    <tr>\n",
       "      <th>TGCCCTGAGGCACTAGACAGACCT-Flex_1_05</th>\n",
       "      <td>0.0</td>\n",
       "      <td>0.0</td>\n",
       "      <td>0.0</td>\n",
       "      <td>1.0</td>\n",
       "      <td>0.0</td>\n",
       "      <td>0.0</td>\n",
       "      <td>0.0</td>\n",
       "      <td>5.0</td>\n",
       "      <td>0.0</td>\n",
       "      <td>1.0</td>\n",
       "      <td>...</td>\n",
       "      <td>2.0</td>\n",
       "      <td>1.0</td>\n",
       "      <td>2.0</td>\n",
       "      <td>7.0</td>\n",
       "      <td>0.0</td>\n",
       "      <td>3.0</td>\n",
       "      <td>0.0</td>\n",
       "      <td>0.0</td>\n",
       "      <td>1.0</td>\n",
       "      <td>INSIG1</td>\n",
       "    </tr>\n",
       "  </tbody>\n",
       "</table>\n",
       "<p>9557 rows × 18081 columns</p>\n",
       "</div>"
      ],
      "text/plain": [
       "                                    SAMD11  NOC2L  KLHL17  PLEKHN1  PERM1  \\\n",
       "TTCCATTGTTGGTTTAAACGCCGA-Flex_2_15     0.0    1.0     0.0      0.0    0.0   \n",
       "GAGGTTTAGGTTCGAGAGTGAGTG-Flex_2_10     0.0    1.0     1.0      0.0    0.0   \n",
       "AGGTGGGAGGATGTTAATCATGTG-Flex_2_14     0.0    3.0     1.0      0.0    0.0   \n",
       "TCTTCATGTGCGATAAACTACTCA-Flex_3_12     0.0    3.0     0.0      0.0    0.0   \n",
       "GGGTTGGGTCATCCTCATTCGGTT-Flex_1_16     0.0    0.0     0.0      0.0    0.0   \n",
       "...                                    ...    ...     ...      ...    ...   \n",
       "AGCATCCTCATGGTCCATACGTCA-Flex_2_13     0.0    0.0     0.0      0.0    0.0   \n",
       "AGCGAACGTAACTACCAACGGGAA-Flex_2_02     0.0    0.0     0.0      0.0    0.0   \n",
       "CCTATGGGTTACCGTGAAGTAGAG-Flex_2_07     0.0    0.0     0.0      0.0    0.0   \n",
       "CCAAACCTCTTTAGCGAGCTGTGA-Flex_3_08     0.0    4.0     0.0      0.0    0.0   \n",
       "TGCCCTGAGGCACTAGACAGACCT-Flex_1_05     0.0    0.0     0.0      1.0    0.0   \n",
       "\n",
       "                                    HES4  ISG15  AGRN  RNF223  C1orf159  ...  \\\n",
       "TTCCATTGTTGGTTTAAACGCCGA-Flex_2_15   0.0    1.0   4.0     0.0       0.0  ...   \n",
       "GAGGTTTAGGTTCGAGAGTGAGTG-Flex_2_10   0.0    0.0   5.0     0.0       0.0  ...   \n",
       "AGGTGGGAGGATGTTAATCATGTG-Flex_2_14   0.0    2.0   9.0     0.0       0.0  ...   \n",
       "TCTTCATGTGCGATAAACTACTCA-Flex_3_12   0.0    1.0   2.0     0.0       0.0  ...   \n",
       "GGGTTGGGTCATCCTCATTCGGTT-Flex_1_16   0.0    0.0   3.0     0.0       0.0  ...   \n",
       "...                                  ...    ...   ...     ...       ...  ...   \n",
       "AGCATCCTCATGGTCCATACGTCA-Flex_2_13   0.0    2.0   7.0     0.0       0.0  ...   \n",
       "AGCGAACGTAACTACCAACGGGAA-Flex_2_02   0.0    2.0   3.0     0.0       1.0  ...   \n",
       "CCTATGGGTTACCGTGAAGTAGAG-Flex_2_07   0.0    0.0   4.0     0.0       0.0  ...   \n",
       "CCAAACCTCTTTAGCGAGCTGTGA-Flex_3_08   0.0    4.0  16.0     0.0       0.0  ...   \n",
       "TGCCCTGAGGCACTAGACAGACCT-Flex_1_05   0.0    0.0   5.0     0.0       1.0  ...   \n",
       "\n",
       "                                    MT-CO2  MT-ATP6  MT-CO3  MT-ND3  MT-ND4L  \\\n",
       "TTCCATTGTTGGTTTAAACGCCGA-Flex_2_15    10.0      3.0     2.0    10.0      0.0   \n",
       "GAGGTTTAGGTTCGAGAGTGAGTG-Flex_2_10     3.0      8.0     7.0    19.0      0.0   \n",
       "AGGTGGGAGGATGTTAATCATGTG-Flex_2_14    19.0     29.0    15.0    30.0      1.0   \n",
       "TCTTCATGTGCGATAAACTACTCA-Flex_3_12     1.0      1.0     1.0     3.0      0.0   \n",
       "GGGTTGGGTCATCCTCATTCGGTT-Flex_1_16     3.0      3.0     5.0     5.0      0.0   \n",
       "...                                    ...      ...     ...     ...      ...   \n",
       "AGCATCCTCATGGTCCATACGTCA-Flex_2_13     9.0      6.0     3.0     3.0      0.0   \n",
       "AGCGAACGTAACTACCAACGGGAA-Flex_2_02    11.0     10.0     6.0    16.0      0.0   \n",
       "CCTATGGGTTACCGTGAAGTAGAG-Flex_2_07    16.0     20.0    11.0    10.0      0.0   \n",
       "CCAAACCTCTTTAGCGAGCTGTGA-Flex_3_08     4.0      6.0     0.0     5.0      0.0   \n",
       "TGCCCTGAGGCACTAGACAGACCT-Flex_1_05     2.0      1.0     2.0     7.0      0.0   \n",
       "\n",
       "                                    MT-ND4  MT-ND5  MT-ND6  MT-CYB  \\\n",
       "TTCCATTGTTGGTTTAAACGCCGA-Flex_2_15     7.0     0.0     0.0     2.0   \n",
       "GAGGTTTAGGTTCGAGAGTGAGTG-Flex_2_10    13.0     0.0     2.0     3.0   \n",
       "AGGTGGGAGGATGTTAATCATGTG-Flex_2_14    40.0     0.0     2.0     3.0   \n",
       "TCTTCATGTGCGATAAACTACTCA-Flex_3_12     2.0     0.0     0.0     1.0   \n",
       "GGGTTGGGTCATCCTCATTCGGTT-Flex_1_16     6.0     0.0     1.0     2.0   \n",
       "...                                    ...     ...     ...     ...   \n",
       "AGCATCCTCATGGTCCATACGTCA-Flex_2_13     5.0     0.0     2.0     1.0   \n",
       "AGCGAACGTAACTACCAACGGGAA-Flex_2_02    13.0     1.0     1.0     3.0   \n",
       "CCTATGGGTTACCGTGAAGTAGAG-Flex_2_07    16.0     0.0     4.0     3.0   \n",
       "CCAAACCTCTTTAGCGAGCTGTGA-Flex_3_08     7.0     0.0     2.0     0.0   \n",
       "TGCCCTGAGGCACTAGACAGACCT-Flex_1_05     3.0     0.0     0.0     1.0   \n",
       "\n",
       "                                    target_gene  \n",
       "TTCCATTGTTGGTTTAAACGCCGA-Flex_2_15        HMGN1  \n",
       "GAGGTTTAGGTTCGAGAGTGAGTG-Flex_2_10        IGF2R  \n",
       "AGGTGGGAGGATGTTAATCATGTG-Flex_2_14          KDR  \n",
       "TCTTCATGTGCGATAAACTACTCA-Flex_3_12       ACVR1B  \n",
       "GGGTTGGGTCATCCTCATTCGGTT-Flex_1_16        KAT2A  \n",
       "...                                         ...  \n",
       "AGCATCCTCATGGTCCATACGTCA-Flex_2_13        HMGN1  \n",
       "AGCGAACGTAACTACCAACGGGAA-Flex_2_02        IGF2R  \n",
       "CCTATGGGTTACCGTGAAGTAGAG-Flex_2_07        IGF2R  \n",
       "CCAAACCTCTTTAGCGAGCTGTGA-Flex_3_08          KDR  \n",
       "TGCCCTGAGGCACTAGACAGACCT-Flex_1_05       INSIG1  \n",
       "\n",
       "[9557 rows x 18081 columns]"
      ]
     },
     "execution_count": 34,
     "metadata": {},
     "output_type": "execute_result"
    }
   ],
   "source": [
    "x = pd.DataFrame(eval_set.X.toarray(), index = eval_set.obs.index, columns = eval_set.var_names)\n",
    "x['target_gene'] = eval_set.obs['target_gene']\n",
    "x"
   ]
  },
  {
   "cell_type": "code",
   "execution_count": 57,
   "id": "78ff5e59",
   "metadata": {},
   "outputs": [
    {
     "name": "stderr",
     "output_type": "stream",
     "text": [
      "/var/folders/9t/47g679_n6zvcr33prvzd5qzh0000gn/T/ipykernel_52015/1746648647.py:2: FutureWarning: The default of observed=False is deprecated and will be changed to True in a future version of pandas. Pass observed=False to retain current behavior or observed=True to adopt the future default and silence this warning.\n",
      "  true = x.groupby(\"target_gene\").median().to_numpy()\n"
     ]
    }
   ],
   "source": [
    "# ground truth\n",
    "true = x.groupby(\"target_gene\").median().to_numpy()"
   ]
  },
  {
   "cell_type": "code",
   "execution_count": 52,
   "id": "17ecaf23",
   "metadata": {},
   "outputs": [],
   "source": [
    "pred = np.array(list(res.values()))"
   ]
  },
  {
   "cell_type": "code",
   "execution_count": null,
   "id": "c8d165ad",
   "metadata": {},
   "outputs": [
    {
     "data": {
      "text/plain": [
       "np.float32(38.662685)"
      ]
     },
     "execution_count": 60,
     "metadata": {},
     "output_type": "execute_result"
    }
   ],
   "source": [
    "# MAE\n",
    "abs(true-pred).mean()"
   ]
  }
 ],
 "metadata": {
  "kernelspec": {
   "display_name": "base",
   "language": "python",
   "name": "python3"
  },
  "language_info": {
   "codemirror_mode": {
    "name": "ipython",
    "version": 3
   },
   "file_extension": ".py",
   "mimetype": "text/x-python",
   "name": "python",
   "nbconvert_exporter": "python",
   "pygments_lexer": "ipython3",
   "version": "3.13.5"
  }
 },
 "nbformat": 4,
 "nbformat_minor": 5
}
