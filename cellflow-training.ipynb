{
 "cells": [
  {
   "cell_type": "code",
   "execution_count": 1,
   "id": "a1514a2d",
   "metadata": {},
   "outputs": [
    {
     "name": "stderr",
     "output_type": "stream",
     "text": [
      "c:\\Users\\zhixu\\AppData\\Local\\Programs\\Python\\Python312\\Lib\\site-packages\\anndata\\utils.py:434: FutureWarning: Importing read_csv from `anndata` is deprecated. Import anndata.io.read_csv instead.\n",
      "  warnings.warn(msg, FutureWarning)\n",
      "c:\\Users\\zhixu\\AppData\\Local\\Programs\\Python\\Python312\\Lib\\site-packages\\anndata\\utils.py:434: FutureWarning: Importing read_excel from `anndata` is deprecated. Import anndata.io.read_excel instead.\n",
      "  warnings.warn(msg, FutureWarning)\n",
      "c:\\Users\\zhixu\\AppData\\Local\\Programs\\Python\\Python312\\Lib\\site-packages\\anndata\\utils.py:434: FutureWarning: Importing read_hdf from `anndata` is deprecated. Import anndata.io.read_hdf instead.\n",
      "  warnings.warn(msg, FutureWarning)\n",
      "c:\\Users\\zhixu\\AppData\\Local\\Programs\\Python\\Python312\\Lib\\site-packages\\anndata\\utils.py:434: FutureWarning: Importing read_loom from `anndata` is deprecated. Import anndata.io.read_loom instead.\n",
      "  warnings.warn(msg, FutureWarning)\n",
      "c:\\Users\\zhixu\\AppData\\Local\\Programs\\Python\\Python312\\Lib\\site-packages\\anndata\\utils.py:434: FutureWarning: Importing read_mtx from `anndata` is deprecated. Import anndata.io.read_mtx instead.\n",
      "  warnings.warn(msg, FutureWarning)\n",
      "c:\\Users\\zhixu\\AppData\\Local\\Programs\\Python\\Python312\\Lib\\site-packages\\anndata\\utils.py:434: FutureWarning: Importing read_text from `anndata` is deprecated. Import anndata.io.read_text instead.\n",
      "  warnings.warn(msg, FutureWarning)\n",
      "c:\\Users\\zhixu\\AppData\\Local\\Programs\\Python\\Python312\\Lib\\site-packages\\anndata\\utils.py:434: FutureWarning: Importing read_umi_tools from `anndata` is deprecated. Import anndata.io.read_umi_tools instead.\n",
      "  warnings.warn(msg, FutureWarning)\n"
     ]
    }
   ],
   "source": [
    "import scanpy as sc\n",
    "from cellflow.model import CellFlow\n",
    "import requests\n",
    "import pandas as pd"
   ]
  },
  {
   "cell_type": "code",
   "execution_count": 2,
   "id": "d29a3de2",
   "metadata": {},
   "outputs": [
    {
     "name": "stderr",
     "output_type": "stream",
     "text": [
      "c:\\Users\\zhixu\\AppData\\Local\\Programs\\Python\\Python312\\Lib\\site-packages\\UniProtMapper\\utils.py:15: UserWarning: pkg_resources is deprecated as an API. See https://setuptools.pypa.io/en/latest/pkg_resources.html. The pkg_resources package is slated for removal as early as 2025-11-30. Refrain from using this package or pin to Setuptools<81.\n",
      "  import pkg_resources\n"
     ]
    }
   ],
   "source": [
    "from UniProtMapper import ProtMapper\n",
    "def get_protein_sequence_by_gene(gene_name):\n",
    "    mapper = ProtMapper()\n",
    "    result, failed = mapper.get(\n",
    "        ids=gene_name, from_db=\"Gene_Name\", to_db=\"UniProtKB\"\n",
    "    )\n",
    "    result = result[(result['Organism'] == \"Homo sapiens (Human)\")&(result['Reviewed'] == \"reviewed\")]\n",
    "    protein = result.iloc[0][\"Entry\"]\n",
    "    # print(protein)\n",
    "    # Define the UniProt API endpoint\n",
    "    sequence_url = f\"https://www.uniprot.org/uniprot/{protein}.fasta\"\n",
    "    sequence_response = requests.get(sequence_url)\n",
    "        \n",
    "    if sequence_response.status_code == 200:\n",
    "        # Extract and return the protein sequence\n",
    "        sequence = ''.join(sequence_response.text.splitlines()[1:])\n",
    "        return sequence\n",
    "    else:\n",
    "        return \"NONE\"\n",
    "\n",
    "# Example usage\n",
    "# gene_name = \"PTPRC\"  # Replace with your gene name\n",
    "# protein_sequence = get_protein_sequence_by_gene(gene_name)\n",
    "# print(f\"Protein Sequence for {gene_name}:\\n{protein_sequence}\")"
   ]
  },
  {
   "cell_type": "code",
   "execution_count": 3,
   "id": "67ddd137",
   "metadata": {},
   "outputs": [],
   "source": [
    "# filePath = \"data/vcc_data/adata_Training.h5ad\"\n",
    "filePath = \"data/vcc_sample.h5ad\""
   ]
  },
  {
   "cell_type": "code",
   "execution_count": 4,
   "id": "b2a19444",
   "metadata": {},
   "outputs": [],
   "source": [
    "adata = sc.read_h5ad(filePath)"
   ]
  },
  {
   "cell_type": "code",
   "execution_count": 5,
   "id": "9ad92b75",
   "metadata": {},
   "outputs": [
    {
     "data": {
      "text/plain": [
       "AnnData object with n_obs × n_vars = 88509 × 18080\n",
       "    obs: 'target_gene', 'guide_id', 'batch', 'control'\n",
       "    var: 'gene_id'"
      ]
     },
     "execution_count": 5,
     "metadata": {},
     "output_type": "execute_result"
    }
   ],
   "source": [
    "adata"
   ]
  },
  {
   "cell_type": "code",
   "execution_count": 6,
   "id": "c07acd3a",
   "metadata": {},
   "outputs": [],
   "source": [
    "adata.obs['control'] = [(lambda x: True if x == \"non-targeting\" else False)(x) for x in adata.obs['target_gene']]"
   ]
  },
  {
   "cell_type": "code",
   "execution_count": 7,
   "id": "93c2c3e1",
   "metadata": {},
   "outputs": [],
   "source": [
    "cf = CellFlow(adata)"
   ]
  },
  {
   "cell_type": "code",
   "execution_count": 8,
   "id": "4372f0b4-3739-42c2-a58d-6a9814a5dffe",
   "metadata": {},
   "outputs": [],
   "source": [
    "# Prepare gene embeddings\n",
    "# Sort out target genes\n",
    "genes = adata.obs[adata.obs['control'] == False]['target_gene'].to_list()\n",
    "genes = list(set(genes))\n"
   ]
  },
  {
   "cell_type": "code",
   "execution_count": 9,
   "id": "64eb7135",
   "metadata": {},
   "outputs": [],
   "source": [
    "# Parameters for preparing data\n",
    "sample_rep = \"X\"\n",
    "control_key = \"control\"\n",
    "perturbation_covariates = {\"gene\": \"target_gene\"}\n",
    "split_covariates = [\"batch\"]\n",
    "perturbation_covariate_reps = {\"gene\": \"gene_embeddings\"}"
   ]
  },
  {
   "cell_type": "code",
   "execution_count": 10,
   "id": "c84c784a",
   "metadata": {},
   "outputs": [],
   "source": [
    "embedding = pd.DataFrame(columns=[\"gene\", \"protein\", \"embedding\"])\n",
    "embedding[\"gene\"] = genes\n",
    "embedding.index = genes"
   ]
  },
  {
   "cell_type": "code",
   "execution_count": 11,
   "id": "f509a28c",
   "metadata": {},
   "outputs": [],
   "source": [
    "t = embedding.iloc[1:5]"
   ]
  },
  {
   "cell_type": "code",
   "execution_count": 12,
   "id": "b9411b37",
   "metadata": {},
   "outputs": [
    {
     "name": "stdout",
     "output_type": "stream",
     "text": [
      "Fetched: 500 / 617\n",
      "Retrying in 3s\n",
      "Fetched: 30 / 30\n",
      "Fetched: 500 / 909\n",
      "Fetched: 500 / 886\n",
      "Fetched: 500 / 819\n",
      "Fetched: 500 / 625\n",
      "Fetched: 362 / 362\n",
      "Fetched: 500 / 689\n",
      "Fetched: 500 / 545\n",
      "Retrying in 3s\n",
      "Fetched: 500 / 805\n",
      "Fetched: 82 / 82\n",
      "Fetched: 500 / 916\n",
      "Fetched: 500 / 802\n",
      "Fetched: 451 / 451\n",
      "Fetched: 348 / 348\n",
      "Fetched: 366 / 366\n",
      "Fetched: 227 / 227\n",
      "Fetched: 500 / 864\n",
      "Fetched: 452 / 452\n",
      "Retrying in 3s\n",
      "Fetched: 451 / 451\n",
      "Fetched: 500 / 742\n",
      "Fetched: 500 / 1206\n",
      "Fetched: 500 / 604\n",
      "Retrying in 3s\n",
      "Fetched: 500 / 803\n",
      "Fetched: 500 / 798\n",
      "Retrying in 3s\n",
      "Fetched: 500 / 1011\n",
      "Retrying in 3s\n",
      "Retrying in 3s\n",
      "Fetched: 500 / 875\n",
      "Fetched: 500 / 1026\n",
      "Fetched: 348 / 348\n",
      "Retrying in 3s\n",
      "Fetched: 500 / 555\n",
      "Fetched: 225 / 225\n",
      "Retrying in 3s\n",
      "Fetched: 500 / 824\n",
      "Retrying in 3s\n",
      "Fetched: 500 / 661\n",
      "Fetched: 368 / 368\n",
      "Retrying in 3s\n",
      "Fetched: 339 / 339\n",
      "Fetched: 500 / 756\n",
      "Fetched: 500 / 606\n",
      "Fetched: 500 / 719\n",
      "Fetched: 236 / 236\n",
      "Fetched: 106 / 106\n",
      "Fetched: 500 / 652\n",
      "Fetched: 500 / 521\n",
      "Fetched: 500 / 639\n",
      "Fetched: 500 / 752\n",
      "Fetched: 500 / 954\n",
      "Retrying in 3s\n",
      "Fetched: 467 / 467\n",
      "Fetched: 500 / 782\n",
      "Fetched: 500 / 761\n",
      "Fetched: 500 / 661\n",
      "Fetched: 500 / 1411\n",
      "Fetched: 500 / 736\n",
      "Fetched: 500 / 651\n",
      "Retrying in 3s\n",
      "Fetched: 500 / 536\n",
      "Fetched: 500 / 788\n",
      "Fetched: 500 / 878\n",
      "Fetched: 500 / 682\n",
      "Fetched: 500 / 942\n",
      "Retrying in 3s\n",
      "Fetched: 500 / 582\n",
      "Fetched: 500 / 1662\n",
      "Retrying in 3s\n",
      "Fetched: 217 / 217\n",
      "Fetched: 500 / 599\n",
      "Fetched: 500 / 688\n",
      "Retrying in 3s\n",
      "Fetched: 500 / 1103\n",
      "Fetched: 477 / 477\n",
      "Retrying in 3s\n",
      "Fetched: 500 / 601\n",
      "Retrying in 3s\n",
      "Fetched: 500 / 536\n",
      "Fetched: 500 / 944\n",
      "Fetched: 500 / 656\n",
      "Retrying in 3s\n",
      "Fetched: 500 / 667\n",
      "Fetched: 500 / 694\n",
      "Fetched: 500 / 900\n",
      "Fetched: 500 / 762\n",
      "Fetched: 500 / 656\n",
      "Retrying in 3s\n",
      "Fetched: 500 / 531\n",
      "Fetched: 500 / 850\n",
      "Fetched: 500 / 667\n",
      "Fetched: 500 / 688\n",
      "Fetched: 500 / 1153\n",
      "Fetched: 386 / 386\n",
      "Fetched: 500 / 589\n",
      "Fetched: 500 / 630\n",
      "Fetched: 500 / 716\n",
      "Retrying in 3s\n",
      "Fetched: 500 / 1280\n",
      "Fetched: 500 / 826\n",
      "Fetched: 500 / 1438\n",
      "Fetched: 500 / 546\n",
      "Fetched: 500 / 779\n",
      "Fetched: 500 / 525\n",
      "Retrying in 3s\n",
      "Fetched: 500 / 983\n",
      "Fetched: 500 / 563\n",
      "Retrying in 3s\n",
      "Fetched: 500 / 597\n",
      "Fetched: 344 / 344\n",
      "Fetched: 52 / 52\n",
      "Fetched: 500 / 970\n",
      "Retrying in 3s\n",
      "Fetched: 500 / 537\n",
      "Retrying in 3s\n",
      "Fetched: 414 / 414\n",
      "Fetched: 399 / 399\n",
      "Retrying in 3s\n",
      "Fetched: 500 / 559\n",
      "Retrying in 3s\n",
      "Fetched: 500 / 731\n",
      "Fetched: 229 / 229\n",
      "Fetched: 500 / 866\n",
      "Fetched: 500 / 664\n",
      "Fetched: 215 / 215\n",
      "Retrying in 3s\n",
      "Fetched: 500 / 968\n",
      "Fetched: 500 / 719\n",
      "Fetched: 500 / 4749\n",
      "Fetched: 500 / 535\n",
      "Fetched: 176 / 176\n",
      "Fetched: 500 / 573\n",
      "Fetched: 500 / 995\n",
      "Fetched: 119 / 119\n",
      "Fetched: 225 / 225\n",
      "Fetched: 256 / 256\n",
      "Fetched: 500 / 853\n",
      "Fetched: 500 / 864\n",
      "Fetched: 500 / 539\n",
      "Fetched: 500 / 1106\n",
      "Fetched: 500 / 566\n",
      "Retrying in 3s\n",
      "Fetched: 500 / 561\n",
      "Fetched: 500 / 920\n",
      "Fetched: 74 / 74\n",
      "Retrying in 3s\n",
      "Fetched: 500 / 592\n",
      "Fetched: 500 / 1436\n",
      "Fetched: 500 / 847\n",
      "Fetched: 500 / 505\n",
      "Retrying in 3s\n",
      "Fetched: 500 / 1138\n",
      "Retrying in 3s\n",
      "Fetched: 500 / 680\n",
      "Fetched: 500 / 609\n",
      "Fetched: 500 / 629\n",
      "Fetched: 500 / 620\n",
      "Fetched: 500 / 721\n",
      "Fetched: 500 / 682\n",
      "Retrying in 3s\n",
      "Fetched: 338 / 338\n",
      "Fetched: 500 / 573\n",
      "Retrying in 3s\n",
      "Fetched: 500 / 1889\n",
      "Fetched: 500 / 778\n",
      "Fetched: 500 / 863\n",
      "Fetched: 425 / 425\n",
      "Fetched: 500 / 767\n",
      "Fetched: 301 / 301\n",
      "Retrying in 3s\n",
      "Fetched: 500 / 591\n",
      "Fetched: 500 / 859\n",
      "Fetched: 482 / 482\n",
      "Retrying in 3s\n",
      "Fetched: 500 / 971\n",
      "Retrying in 3s\n",
      "Fetched: 500 / 840\n",
      "Retrying in 3s\n",
      "Fetched: 500 / 670\n",
      "Fetched: 500 / 692\n",
      "Fetched: 500 / 1157\n",
      "Fetched: 500 / 708\n",
      "Fetched: 349 / 349\n"
     ]
    }
   ],
   "source": [
    "embedding[\"protein\"] = embedding['gene'].apply(get_protein_sequence_by_gene)"
   ]
  },
  {
   "cell_type": "code",
   "execution_count": 13,
   "id": "b6f0772f",
   "metadata": {},
   "outputs": [
    {
     "data": {
      "text/html": [
       "<div>\n",
       "<style scoped>\n",
       "    .dataframe tbody tr th:only-of-type {\n",
       "        vertical-align: middle;\n",
       "    }\n",
       "\n",
       "    .dataframe tbody tr th {\n",
       "        vertical-align: top;\n",
       "    }\n",
       "\n",
       "    .dataframe thead th {\n",
       "        text-align: right;\n",
       "    }\n",
       "</style>\n",
       "<table border=\"1\" class=\"dataframe\">\n",
       "  <thead>\n",
       "    <tr style=\"text-align: right;\">\n",
       "      <th></th>\n",
       "      <th>gene</th>\n",
       "      <th>protein</th>\n",
       "      <th>embedding</th>\n",
       "    </tr>\n",
       "  </thead>\n",
       "  <tbody>\n",
       "    <tr>\n",
       "      <th>STAT6</th>\n",
       "      <td>STAT6</td>\n",
       "      <td>MSLWGLVSKMPPEKVQRLYVDFPQHLRHLLGDWLESQPWEFLVGSD...</td>\n",
       "      <td>NaN</td>\n",
       "    </tr>\n",
       "    <tr>\n",
       "      <th>ZNF714</th>\n",
       "      <td>ZNF714</td>\n",
       "      <td>MNVMLENYKNLVFLAGIAVSKQDPITSLEQEKEPWNMKICEMVDES...</td>\n",
       "      <td>NaN</td>\n",
       "    </tr>\n",
       "    <tr>\n",
       "      <th>MED1</th>\n",
       "      <td>MED1</td>\n",
       "      <td>MGTTGLESLSLGDRGAAPTVTSSERLVPDPPNDLRKEDVAMELERV...</td>\n",
       "      <td>NaN</td>\n",
       "    </tr>\n",
       "    <tr>\n",
       "      <th>BRD9</th>\n",
       "      <td>BRD9</td>\n",
       "      <td>MGKKHKKHKAEWRSSYEDYADKPLEKPLKLVLKVGGSEVTELSGSG...</td>\n",
       "      <td>NaN</td>\n",
       "    </tr>\n",
       "    <tr>\n",
       "      <th>CASP2</th>\n",
       "      <td>CASP2</td>\n",
       "      <td>MAAPSAGSWSTFQHKELMAADRGRRILGVCGMHPHHQETLKKNRVV...</td>\n",
       "      <td>NaN</td>\n",
       "    </tr>\n",
       "    <tr>\n",
       "      <th>...</th>\n",
       "      <td>...</td>\n",
       "      <td>...</td>\n",
       "      <td>...</td>\n",
       "    </tr>\n",
       "    <tr>\n",
       "      <th>SALL4</th>\n",
       "      <td>SALL4</td>\n",
       "      <td>MSRRKQAKPQHINSEEDQGEQQPQQQTPEFADAAPAAPAAGELGAP...</td>\n",
       "      <td>NaN</td>\n",
       "    </tr>\n",
       "    <tr>\n",
       "      <th>HIRA</th>\n",
       "      <td>HIRA</td>\n",
       "      <td>MKLLKPTWVNHNGKPIFSVDIHPDGTKFATGGQGQDSGKVVIWNMS...</td>\n",
       "      <td>NaN</td>\n",
       "    </tr>\n",
       "    <tr>\n",
       "      <th>IDE</th>\n",
       "      <td>IDE</td>\n",
       "      <td>MRYRLAWLLHPALPSTFRSVLGARLPPPERLCGFQKKTYSKMNNPA...</td>\n",
       "      <td>NaN</td>\n",
       "    </tr>\n",
       "    <tr>\n",
       "      <th>SV2A</th>\n",
       "      <td>SV2A</td>\n",
       "      <td>MEEGFRDRAAFIRGAKDIAKEVKKHAAKKVVKGLDRVQDEYSRRSY...</td>\n",
       "      <td>NaN</td>\n",
       "    </tr>\n",
       "    <tr>\n",
       "      <th>PRDM14</th>\n",
       "      <td>PRDM14</td>\n",
       "      <td>MALPRPSEAVPQDKVCYPPESSPQNLAAYYTPFPSYGHYRNSLATV...</td>\n",
       "      <td>NaN</td>\n",
       "    </tr>\n",
       "  </tbody>\n",
       "</table>\n",
       "<p>150 rows × 3 columns</p>\n",
       "</div>"
      ],
      "text/plain": [
       "          gene                                            protein embedding\n",
       "STAT6    STAT6  MSLWGLVSKMPPEKVQRLYVDFPQHLRHLLGDWLESQPWEFLVGSD...       NaN\n",
       "ZNF714  ZNF714  MNVMLENYKNLVFLAGIAVSKQDPITSLEQEKEPWNMKICEMVDES...       NaN\n",
       "MED1      MED1  MGTTGLESLSLGDRGAAPTVTSSERLVPDPPNDLRKEDVAMELERV...       NaN\n",
       "BRD9      BRD9  MGKKHKKHKAEWRSSYEDYADKPLEKPLKLVLKVGGSEVTELSGSG...       NaN\n",
       "CASP2    CASP2  MAAPSAGSWSTFQHKELMAADRGRRILGVCGMHPHHQETLKKNRVV...       NaN\n",
       "...        ...                                                ...       ...\n",
       "SALL4    SALL4  MSRRKQAKPQHINSEEDQGEQQPQQQTPEFADAAPAAPAAGELGAP...       NaN\n",
       "HIRA      HIRA  MKLLKPTWVNHNGKPIFSVDIHPDGTKFATGGQGQDSGKVVIWNMS...       NaN\n",
       "IDE        IDE  MRYRLAWLLHPALPSTFRSVLGARLPPPERLCGFQKKTYSKMNNPA...       NaN\n",
       "SV2A      SV2A  MEEGFRDRAAFIRGAKDIAKEVKKHAAKKVVKGLDRVQDEYSRRSY...       NaN\n",
       "PRDM14  PRDM14  MALPRPSEAVPQDKVCYPPESSPQNLAAYYTPFPSYGHYRNSLATV...       NaN\n",
       "\n",
       "[150 rows x 3 columns]"
      ]
     },
     "execution_count": 13,
     "metadata": {},
     "output_type": "execute_result"
    }
   ],
   "source": [
    "embedding"
   ]
  },
  {
   "cell_type": "code",
   "execution_count": 19,
   "id": "77b99c99",
   "metadata": {},
   "outputs": [],
   "source": [
    "import torch\n",
    "from esm import pretrained\n",
    "class ESMConverter:\n",
    "  def __init__(self, model:str):\n",
    "    self.model, self.alphabet = pretrained.load_model_and_alphabet(model)\n",
    "    self.batch_converter = self.alphabet.get_batch_converter()\n",
    "\n",
    "  def convert(self, sequences):\n",
    "    batch_labels, batch_strs, batch_tokens = self.batch_converter(sequences)\n",
    "    with torch.no_grad():\n",
    "      token_embeddings = self.model(batch_tokens, repr_layers=[33])\n",
    "      embeddings = token_embeddings['representations'][33]\n",
    "      average_embeddings = embeddings.mean(dim=1)\n",
    "    return average_embeddings"
   ]
  },
  {
   "cell_type": "code",
   "execution_count": 20,
   "id": "601a3c46",
   "metadata": {},
   "outputs": [],
   "source": [
    "converter = ESMConverter(\"esm2_t33_650M_UR50D\")"
   ]
  },
  {
   "cell_type": "code",
   "execution_count": 33,
   "id": "bd5f7884",
   "metadata": {},
   "outputs": [],
   "source": [
    "sequences = list(zip(embedding['gene'], embedding['protein']))\n",
    "em = []\n",
    "for s in sequences:\n",
    "  em.append(converter.convert([s]))"
   ]
  },
  {
   "cell_type": "code",
   "execution_count": 36,
   "id": "ae3bc5bf",
   "metadata": {},
   "outputs": [],
   "source": [
    "embedding['embedding'] = em"
   ]
  },
  {
   "cell_type": "code",
   "execution_count": 39,
   "id": "2a9713f1",
   "metadata": {},
   "outputs": [],
   "source": [
    "pd.to_pickle(embedding,\"subsample_gene_embedding.pkl\")"
   ]
  },
  {
   "cell_type": "code",
   "execution_count": 58,
   "id": "46a87106-7a91-49c6-b433-1597b4497fa7",
   "metadata": {},
   "outputs": [
    {
     "name": "stdout",
     "output_type": "stream",
     "text": [
      "Fetched: 500 / 734\n"
     ]
    }
   ],
   "source": [
    "mapper = ProtMapper()\n",
    "\n",
    "result, failed = mapper.get(\n",
    "    ids=[\"TP53\"], from_db=\"Gene_Name\", to_db=\"UniProtKB\"\n",
    ")"
   ]
  },
  {
   "cell_type": "code",
   "execution_count": 70,
   "id": "cad34324-2003-42d3-913c-2610a1a1cba2",
   "metadata": {},
   "outputs": [
    {
     "data": {
      "text/html": [
       "<div>\n",
       "<style scoped>\n",
       "    .dataframe tbody tr th:only-of-type {\n",
       "        vertical-align: middle;\n",
       "    }\n",
       "\n",
       "    .dataframe tbody tr th {\n",
       "        vertical-align: top;\n",
       "    }\n",
       "\n",
       "    .dataframe thead th {\n",
       "        text-align: right;\n",
       "    }\n",
       "</style>\n",
       "<table border=\"1\" class=\"dataframe\">\n",
       "  <thead>\n",
       "    <tr style=\"text-align: right;\">\n",
       "      <th></th>\n",
       "      <th>From</th>\n",
       "      <th>Entry</th>\n",
       "      <th>Entry Name</th>\n",
       "      <th>Reviewed</th>\n",
       "      <th>Protein names</th>\n",
       "      <th>Gene Names</th>\n",
       "      <th>Organism</th>\n",
       "      <th>Length</th>\n",
       "    </tr>\n",
       "  </thead>\n",
       "  <tbody>\n",
       "    <tr>\n",
       "      <th>6</th>\n",
       "      <td>TP53</td>\n",
       "      <td>P04637</td>\n",
       "      <td>P53_HUMAN</td>\n",
       "      <td>reviewed</td>\n",
       "      <td>Cellular tumor antigen p53 (Antigen NY-CO-13) ...</td>\n",
       "      <td>TP53 P53</td>\n",
       "      <td>Homo sapiens (Human)</td>\n",
       "      <td>393</td>\n",
       "    </tr>\n",
       "  </tbody>\n",
       "</table>\n",
       "</div>"
      ],
      "text/plain": [
       "   From   Entry Entry Name  Reviewed  \\\n",
       "6  TP53  P04637  P53_HUMAN  reviewed   \n",
       "\n",
       "                                       Protein names Gene Names  \\\n",
       "6  Cellular tumor antigen p53 (Antigen NY-CO-13) ...   TP53 P53   \n",
       "\n",
       "               Organism Length  \n",
       "6  Homo sapiens (Human)    393  "
      ]
     },
     "execution_count": 70,
     "metadata": {},
     "output_type": "execute_result"
    }
   ],
   "source": [
    "result[(result['Reviewed'] == \"reviewed\") & (result['Organism'] == \"Homo sapiens (Human)\")]"
   ]
  },
  {
   "cell_type": "code",
   "execution_count": null,
   "id": "ffd4f470-5620-4560-9bf4-ba3adec758d6",
   "metadata": {},
   "outputs": [],
   "source": []
  }
 ],
 "metadata": {
  "kernelspec": {
   "display_name": "Python 3",
   "language": "python",
   "name": "python3"
  },
  "language_info": {
   "codemirror_mode": {
    "name": "ipython",
    "version": 3
   },
   "file_extension": ".py",
   "mimetype": "text/x-python",
   "name": "python",
   "nbconvert_exporter": "python",
   "pygments_lexer": "ipython3",
   "version": "3.12.2"
  }
 },
 "nbformat": 4,
 "nbformat_minor": 5
}
