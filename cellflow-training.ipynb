{
 "cells": [
  {
   "cell_type": "code",
   "execution_count": 17,
   "id": "a1514a2d",
   "metadata": {},
   "outputs": [],
   "source": [
    "import scanpy as sc\n",
    "from cellflow.model import CellFlow\n",
    "import requests\n",
    "import pandas as pd\n",
    "import anndata\n",
    "import random\n",
    "import torch\n",
    "from esm import pretrained"
   ]
  },
  {
   "cell_type": "code",
   "execution_count": 18,
   "id": "77b99c99",
   "metadata": {},
   "outputs": [],
   "source": [
    "class ESMConverter:\n",
    "  def __init__(self, model:str):\n",
    "    self.model, self.alphabet = pretrained.load_model_and_alphabet(model)\n",
    "    self.batch_converter = self.alphabet.get_batch_converter()\n",
    "\n",
    "  def convert(self, sequences):\n",
    "    batch_labels, batch_strs, batch_tokens = self.batch_converter(sequences)\n",
    "    with torch.no_grad():\n",
    "      token_embeddings = self.model(batch_tokens, repr_layers=[33])\n",
    "      embeddings = token_embeddings['representations'][33]\n",
    "      average_embeddings = embeddings.mean(dim=1)\n",
    "    return average_embeddings"
   ]
  },
  {
   "cell_type": "code",
   "execution_count": 19,
   "id": "d29a3de2",
   "metadata": {},
   "outputs": [],
   "source": [
    "from UniProtMapper import ProtMapper\n",
    "def get_protein_sequence_by_gene(gene_name):\n",
    "    mapper = ProtMapper()\n",
    "    result, failed = mapper.get(\n",
    "        ids=gene_name, from_db=\"Gene_Name\", to_db=\"UniProtKB\"\n",
    "    )\n",
    "    result = result[(result['Organism'] == \"Homo sapiens (Human)\")&(result['Reviewed'] == \"reviewed\")]\n",
    "    protein = result.iloc[0][\"Entry\"]\n",
    "    # print(protein)\n",
    "    # Define the UniProt API endpoint\n",
    "    sequence_url = f\"https://www.uniprot.org/uniprot/{protein}.fasta\"\n",
    "    sequence_response = requests.get(sequence_url)\n",
    "        \n",
    "    if sequence_response.status_code == 200:\n",
    "        # Extract and return the protein sequence\n",
    "        sequence = ''.join(sequence_response.text.splitlines()[1:])\n",
    "        return sequence\n",
    "    else:\n",
    "        return \"NONE\"\n",
    "\n",
    "# Example usage\n",
    "# gene_name = \"PTPRC\"  # Replace with your gene name\n",
    "# protein_sequence = get_protein_sequence_by_gene(gene_name)\n",
    "# print(f\"Protein Sequence for {gene_name}:\\n{protein_sequence}\")"
   ]
  },
  {
   "cell_type": "code",
   "execution_count": 20,
   "id": "67ddd137",
   "metadata": {},
   "outputs": [],
   "source": [
    "# filePath = \"data/vcc_data/adata_Training.h5ad\"\n",
    "filePath = \"../vcc_sample.h5ad\""
   ]
  },
  {
   "cell_type": "code",
   "execution_count": 21,
   "id": "b2a19444",
   "metadata": {},
   "outputs": [],
   "source": [
    "adata = sc.read_h5ad(filePath)"
   ]
  },
  {
   "cell_type": "code",
   "execution_count": null,
   "id": "9ad92b75",
   "metadata": {},
   "outputs": [
    {
     "data": {
      "text/plain": [
       "{'RNF20': tensor([ 0.0104, -0.0884, -0.0148,  ..., -0.1244,  0.1133,  0.1652]),\n",
       " 'TMSB10': tensor([-0.0109, -0.0171, -0.0571,  ..., -0.0265, -0.1325,  0.0159]),\n",
       " 'ANTXR1': tensor([-0.0367, -0.0803, -0.1321,  ..., -0.2080,  0.0250,  0.1001]),\n",
       " 'HIRA': tensor([-0.0164, -0.0753, -0.0067,  ..., -0.1768,  0.0007,  0.1631]),\n",
       " 'ATP6V0C': tensor([ 0.0886, -0.1398, -0.0269,  ..., -0.3051, -0.0488,  0.2683]),\n",
       " 'SUPT4H1': tensor([ 0.0669, -0.0283,  0.0173,  ..., -0.2693, -0.0681,  0.1898]),\n",
       " 'DHCR24': tensor([ 0.0492, -0.0253,  0.0156,  ..., -0.1282, -0.0437,  0.0311]),\n",
       " 'OXCT1': tensor([[ 0.0332, -0.0064, -0.0084,  ..., -0.0846, -0.0035,  0.0739]]),\n",
       " 'SMARCA4': tensor([-0.0085, -0.0615, -0.0069,  ..., -0.0540,  0.0795,  0.0830]),\n",
       " 'CASP2': tensor([ 0.0352, -0.0567, -0.0319,  ..., -0.1854,  0.0906,  0.1119]),\n",
       " 'ACAT2': tensor([ 0.0030, -0.0700,  0.0587,  ..., -0.0953,  0.0767,  0.0887]),\n",
       " 'ETV4': tensor([ 0.0121, -0.0638, -0.0065,  ..., -0.0799,  0.0840,  0.0173]),\n",
       " 'PHF10': tensor([ 0.0099, -0.0065,  0.0023,  ..., -0.0840,  0.0299,  0.0723]),\n",
       " 'TAZ': tensor([ 0.0046, -0.0253, -0.0290,  ..., -0.1318,  0.0196, -0.0813]),\n",
       " 'MTA1': tensor([ 0.0459, -0.1618, -0.0376,  ..., -0.2306,  0.0798,  0.1286]),\n",
       " 'RNF2': tensor([ 0.0471, -0.0539, -0.0159,  ..., -0.2169,  0.0524,  0.0729]),\n",
       " 'PTPN1': tensor([ 0.0177, -0.2250, -0.1221,  ..., -0.1912,  0.0985,  0.0810]),\n",
       " 'POLB': tensor([ 0.0528, -0.1103, -0.0632,  ..., -0.2169,  0.0358,  0.2727]),\n",
       " 'DNMT1': tensor([ 0.0069, -0.0228,  0.0075,  ..., -0.0759,  0.0060,  0.0434]),\n",
       " 'HAT1': tensor([ 0.0647, -0.0373,  0.0167,  ..., -0.1703, -0.0281,  0.1547]),\n",
       " 'LAD1': tensor([-0.0031, -0.1208, -0.0251,  ..., -0.0114,  0.0775, -0.0193]),\n",
       " 'CREG1': tensor([-0.0410, -0.0113,  0.0236,  ..., -0.0873, -0.0201, -0.0303]),\n",
       " 'NDUFB4': tensor([ 0.0144,  0.1230, -0.0426,  ..., -0.0315,  0.0985,  0.0142]),\n",
       " 'ZNF562': tensor([-0.0137, -0.0126,  0.0656,  ...,  0.0657, -0.0053,  0.0126]),\n",
       " 'TMSB4X': tensor([-0.0059, -0.0016, -0.0766,  ...,  0.0306, -0.0627, -0.0197]),\n",
       " 'TGFBR2': tensor([-0.0007, -0.0946, -0.0322,  ..., -0.1686,  0.0562,  0.1004]),\n",
       " 'TARBP2': tensor([-0.0954, -0.1030,  0.0342,  ..., -0.1381,  0.1448,  0.1642]),\n",
       " 'CLDN6': tensor([-0.0745, -0.0097, -0.0206,  ..., -0.0763,  0.0004, -0.0592]),\n",
       " 'CALM3': tensor([ 0.0193,  0.0133, -0.0488,  ..., -0.1824,  0.0042,  0.2227]),\n",
       " 'OXA1L': tensor([ 0.0264, -0.0169, -0.0070,  ..., -0.0773,  0.0225,  0.1234]),\n",
       " 'MED1': tensor([-0.0079, -0.2057,  0.0105,  ..., -0.1227,  0.0835,  0.1258]),\n",
       " 'TXNDC9': tensor([ 0.0204, -0.0393,  0.0201,  ..., -0.1433,  0.0007,  0.1006]),\n",
       " 'IRF3': tensor([-0.0103, -0.0548,  0.0423,  ..., -0.0636,  0.0494,  0.0356]),\n",
       " 'LZTR1': tensor([ 0.0107, -0.1080, -0.0049,  ..., -0.1933,  0.0406,  0.2348]),\n",
       " 'RAB3B': tensor([ 0.0094, -0.0058,  0.0005,  ..., -0.1379,  0.0090,  0.0378]),\n",
       " 'EIF4B': tensor([-0.0011, -0.1799, -0.0388,  ..., -0.2373,  0.1400,  0.0914]),\n",
       " 'SAFB': tensor([-0.0191, -0.1212, -0.0114,  ..., -0.0784,  0.1035,  0.0654]),\n",
       " 'ATP6V0B': tensor([-0.0054, -0.0042,  0.0468,  ..., -0.1293, -0.0647,  0.1724]),\n",
       " 'CAMSAP2': tensor([ 0.0344, -0.0364, -0.0126,  ..., -0.0274,  0.0438,  0.0173]),\n",
       " 'EID2': tensor([-0.0528,  0.0185,  0.0048,  ..., -0.0123,  0.0352,  0.0566]),\n",
       " 'TADA1': tensor([-0.0218, -0.0895, -0.0880,  ..., -0.2169,  0.1091,  0.1045]),\n",
       " 'TET1': tensor([ 0.0356, -0.1039,  0.0134,  ..., -0.0814,  0.0445,  0.0039]),\n",
       " 'BIRC2': tensor([ 0.0371, -0.0609,  0.0035,  ..., -0.0960, -0.0344,  0.0926]),\n",
       " 'SNCA': tensor([ 0.0622, -0.0852,  0.0292,  ..., -0.0107, -0.0013,  0.0024]),\n",
       " 'MAP1B': tensor([ 0.0453, -0.0598, -0.0262,  ...,  0.0070,  0.0552,  0.0455]),\n",
       " 'SSBP1': tensor([ 4.9885e-05, -2.2263e-02, -2.1704e-02,  ..., -1.5833e-01,\n",
       "          2.5916e-02,  2.8448e-01]),\n",
       " 'HSBP1': tensor([ 0.1030, -0.1135, -0.0847,  ..., -0.2440,  0.0647,  0.2050]),\n",
       " 'BRD9': tensor([ 0.0021, -0.0611, -0.0087,  ..., -0.1235,  0.0425,  0.0513]),\n",
       " 'TSC22D4': tensor([-0.0174, -0.0575,  0.0682,  ..., -0.0569,  0.1214,  0.0138]),\n",
       " 'C1QBP': tensor([ 0.0159,  0.0333,  0.0116,  ..., -0.0722, -0.0687,  0.0334]),\n",
       " 'IGF2R': tensor([-0.0180, -0.0464, -0.0143,  ..., -0.0569, -0.0467,  0.0661]),\n",
       " 'PRDM14': tensor([ 0.0073, -0.0444,  0.0214,  ..., -0.0304,  0.0196,  0.0194]),\n",
       " 'TMBIM6': tensor([ 0.0266, -0.0615,  0.0610,  ..., -0.1144, -0.1048,  0.0568]),\n",
       " 'CASP3': tensor([ 0.0175, -0.1184, -0.0271,  ..., -0.2642,  0.1080,  0.0714]),\n",
       " 'CENPO': tensor([-0.0357, -0.0288,  0.0162,  ..., -0.0577,  0.0630,  0.0618]),\n",
       " 'PBX1': tensor([-0.0231, -0.0803,  0.0708,  ..., -0.0811,  0.0839,  0.0878]),\n",
       " 'MAPKAPK2': tensor([ 0.0351, -0.0800, -0.0527,  ..., -0.2733,  0.1259,  0.1875]),\n",
       " 'NISCH': tensor([ 0.0229, -0.0366,  0.0087,  ..., -0.0058,  0.0063,  0.0391]),\n",
       " 'TFAM': tensor([ 0.0373,  0.0617,  0.0127,  ..., -0.0102,  0.0350,  0.1114]),\n",
       " 'PAGR1': tensor([ 0.0535, -0.0103,  0.0326,  ..., -0.0120,  0.0703,  0.0613]),\n",
       " 'GSK3B': tensor([-0.0302,  0.0418,  0.0149,  ..., -0.0996,  0.0303,  0.0179]),\n",
       " 'SLC39A6': tensor([-0.0053,  0.0146, -0.0051,  ..., -0.1512, -0.0048, -0.0040]),\n",
       " 'PRCP': tensor([ 0.0424, -0.0809, -0.0681,  ..., -0.1426, -0.1344,  0.0914]),\n",
       " 'ZNF714': tensor([-0.0607, -0.0234, -0.0130,  ...,  0.0191,  0.0641,  0.0243]),\n",
       " 'FOXH1': tensor([ 0.0371, -0.0165,  0.0208,  ..., -0.0863,  0.1112,  0.0032]),\n",
       " 'TCF3': tensor([-0.0098, -0.1666, -0.0289,  ..., -0.1266,  0.2413,  0.0385]),\n",
       " 'SOX2': tensor([-0.0366, -0.0665,  0.0212,  ..., -0.1330,  0.1003,  0.0556]),\n",
       " 'DAXX': tensor([ 0.0087, -0.0534,  0.0480,  ..., -0.1158,  0.0749,  0.0222]),\n",
       " 'PLCB3': tensor([ 0.0500, -0.0282, -0.0115,  ..., -0.0861,  0.0892,  0.1074]),\n",
       " 'SALL4': tensor([-0.0043, -0.0983,  0.0297,  ..., -0.0274,  0.0703,  0.0587]),\n",
       " 'DLG5': tensor([ 0.0174, -0.0415, -0.0205,  ..., -0.0584,  0.0873,  0.1220]),\n",
       " 'STAT6': tensor([ 0.0386, -0.1260, -0.0108,  ..., -0.1035,  0.1232,  0.1611]),\n",
       " 'MAP3K7': tensor([ 0.0221, -0.0159,  0.0223,  ..., -0.1516,  0.1187,  0.1020]),\n",
       " 'HMGB2': tensor([ 0.0154, -0.0456, -0.0167,  ..., -0.1469,  0.0136,  0.1168]),\n",
       " 'EPHB4': tensor([-0.0061, -0.0538,  0.0057,  ..., -0.1091,  0.0699,  0.1382]),\n",
       " 'CHMP3': tensor([ 0.0541, -0.0885, -0.0647,  ..., -0.0234, -0.0303,  0.1791]),\n",
       " 'NCK2': tensor([-0.0047, -0.0693, -0.0168,  ..., -0.1413,  0.0350,  0.1626]),\n",
       " 'SIN3B': tensor([ 0.0095,  0.0051,  0.0029,  ..., -0.0197,  0.0712,  0.0904]),\n",
       " 'XRCC4': tensor([-0.0399, -0.1056, -0.0351,  ..., -0.0807,  0.0497,  0.1736]),\n",
       " 'NIT1': tensor([-0.0083, -0.0355,  0.0281,  ..., -0.1329,  0.0712,  0.0072]),\n",
       " 'KDM2B': tensor([ 0.0156, -0.0184, -0.0106,  ..., -0.1016,  0.0575,  0.0197]),\n",
       " 'KAT2A': tensor([-0.0026, -0.0421, -0.0020,  ..., -0.1128,  0.0484,  0.0695]),\n",
       " 'SV2A': tensor([-0.0264, -0.0998, -0.0150,  ..., -0.0765,  0.0130,  0.2075]),\n",
       " 'ZNF593': tensor([ 0.0136, -0.0303,  0.0018,  ..., -0.0941,  0.0722,  0.0637]),\n",
       " 'TAF13': tensor([ 0.0072, -0.1553, -0.1068,  ..., -0.2905,  0.0212,  0.2192]),\n",
       " 'DNAJA3': tensor([ 0.0081, -0.0021,  0.0375,  ..., -0.0515, -0.0240,  0.1172]),\n",
       " 'IKBKG': tensor([ 0.0410, -0.0891,  0.0492,  ..., -0.0179,  0.0980,  0.1017]),\n",
       " 'ATP1B1': tensor([ 0.0412, -0.1702, -0.0603,  ..., -0.2641, -0.0014,  0.1971]),\n",
       " 'PRR12': tensor([-0.0451, -0.0818, -0.0082,  ..., -0.0550,  0.1261,  0.0456]),\n",
       " 'TRAM2': tensor([-0.0250, -0.0306,  0.0027,  ..., -0.0241,  0.0043,  0.0316]),\n",
       " 'ZNF286A': tensor([-0.0377, -0.0374,  0.0310,  ...,  0.0513,  0.0629, -0.0306]),\n",
       " 'WSB2': tensor([-0.0454,  0.0094, -0.0320,  ..., -0.1805, -0.0356,  0.0983]),\n",
       " 'NREP': tensor([ 0.0560,  0.0428,  0.0961,  ...,  0.0080, -0.1316,  0.0946]),\n",
       " 'PMS1': tensor([-0.0201, -0.1018,  0.0075,  ..., -0.2040,  0.0617,  0.1063]),\n",
       " 'CAST': tensor([-0.0033, -0.0735, -0.0369,  ..., -0.0423,  0.0855, -0.0678]),\n",
       " 'SRC': tensor([-0.0017, -0.0486, -0.0511,  ..., -0.1477,  0.0890,  0.1385]),\n",
       " 'CLDN7': tensor([-0.0835,  0.0341, -0.0186,  ..., -0.0855, -0.0277, -0.0301]),\n",
       " 'SDC1': tensor([ 0.0673, -0.0077,  0.0073,  ..., -0.0632,  0.0760,  0.0347]),\n",
       " 'NRAS': tensor([ 0.0180, -0.0015, -0.0874,  ..., -0.2265,  0.0812,  0.1489]),\n",
       " 'KIF1B': tensor([ 0.0254, -0.0117,  0.0215,  ..., -0.0504,  0.0195,  0.0556]),\n",
       " 'MED12': tensor([-0.0026, -0.0054,  0.0901,  ..., -0.0429,  0.1082,  0.0592]),\n",
       " 'METTL17': tensor([-0.0278, -0.0035,  0.0010,  ..., -0.0526,  0.0073, -0.0052]),\n",
       " 'SIX4': tensor([ 0.0136, -0.0476,  0.0414,  ..., -0.0669,  0.0821,  0.0396]),\n",
       " 'STX4': tensor([ 0.0184, -0.0939, -0.0278,  ..., -0.1056,  0.0761,  0.1471]),\n",
       " 'NDUFB6': tensor([ 0.0773,  0.0603, -0.0678,  ..., -0.1035,  0.0821,  0.0579]),\n",
       " 'KDR': tensor([ 0.0186, -0.0368, -0.0170,  ..., -0.0722, -0.0016,  0.0706]),\n",
       " 'MED13': tensor([ 0.0514, -0.0087,  0.0522,  ..., -0.0247,  0.0273,  0.0192]),\n",
       " 'AKT2': tensor([ 0.0084, -0.0625, -0.0156,  ..., -0.1740,  0.1112,  0.1683]),\n",
       " 'DHX36': tensor([ 0.0171, -0.0217,  0.0092,  ..., -0.0627, -0.0052,  0.0797]),\n",
       " 'METTL3': tensor([ 3.8614e-02, -1.1351e-01, -1.1990e-04,  ..., -2.1679e-01,\n",
       "          1.0044e-01,  1.2386e-01]),\n",
       " 'IDE': tensor([-0.0519, -0.0693,  0.0079,  ..., -0.1488, -0.0207, -0.0179]),\n",
       " 'MAST2': tensor([ 0.0620, -0.0276,  0.0421,  ..., -0.0364,  0.0708,  0.0016]),\n",
       " 'WFS1': tensor([ 0.0283, -0.0096,  0.0308,  ..., -0.0219,  0.0254,  0.1006]),\n",
       " 'FDPS': tensor([-0.0378, -0.0789,  0.0272,  ..., -0.0991, -0.0109,  0.0469]),\n",
       " 'USP22': tensor([ 0.0020, -0.1097, -0.0231,  ..., -0.2176, -0.0519,  0.1264]),\n",
       " 'STAG2': tensor([ 0.0683, -0.0132,  0.0525,  ..., -0.0952,  0.0562,  0.0845]),\n",
       " 'TRAPPC6A': tensor([-0.0557, -0.0308,  0.0811,  ...,  0.0360,  0.0222,  0.0603]),\n",
       " 'KDM1A': tensor([ 0.0131, -0.0101,  0.0071,  ..., -0.0709,  0.0397,  0.0455]),\n",
       " 'KLF10': tensor([-0.0066, -0.0515,  0.0440,  ..., -0.1453,  0.0446,  0.0066]),\n",
       " 'MAU2': tensor([-0.0491, -0.0697, -0.0314,  ..., -0.2305,  0.0910,  0.1749]),\n",
       " 'ACVR1B': tensor([-0.0113, -0.0591, -0.0076,  ..., -0.1283,  0.0567,  0.0114]),\n",
       " 'EPB41L2': tensor([ 0.0234, -0.0636, -0.0195,  ..., -0.0270,  0.0242,  0.0632]),\n",
       " 'ARID1A': tensor([-0.0288, -0.0672,  0.0196,  ..., -0.0369,  0.1595,  0.1549]),\n",
       " 'EWSR1': tensor([-0.0320, -0.1305, -0.0016,  ..., -0.0859,  0.1608,  0.1154]),\n",
       " 'PMEL': tensor([ 0.0101, -0.0625,  0.0496,  ..., -0.0701,  0.0426,  0.0492]),\n",
       " 'METTL14': tensor([-0.0019,  0.0080,  0.0686,  ..., -0.1322,  0.0904,  0.0670]),\n",
       " 'SMAGP': tensor([ 0.1249, -0.1150, -0.0684,  ..., -0.1622, -0.0117,  0.1228]),\n",
       " 'UBE3C': tensor([ 0.0311, -0.0639,  0.0865,  ..., -0.1839,  0.0561,  0.1599]),\n",
       " 'SMARCA5': tensor([ 0.0150, -0.0251,  0.0145,  ..., -0.1161,  0.0149,  0.1142]),\n",
       " 'MED24': tensor([-0.0139,  0.0342,  0.1149,  ..., -0.0332,  0.0574,  0.0795]),\n",
       " 'KIF20A': tensor([ 0.0156, -0.0720,  0.0085,  ..., -0.0512,  0.0369,  0.0076]),\n",
       " 'TWF2': tensor([-0.0628, -0.0942,  0.0455,  ..., -0.1149, -0.0264,  0.1057]),\n",
       " 'LRPPRC': tensor([ 0.0675,  0.0079, -0.0181,  ..., -0.0519,  0.0446,  0.0390]),\n",
       " 'MED13L': tensor([ 0.0562, -0.0171,  0.0474,  ..., -0.0156,  0.0342,  0.0290]),\n",
       " 'STAT1': tensor([ 0.0098, -0.0971, -0.0509,  ..., -0.1531,  0.0643,  0.1677]),\n",
       " 'RRM1': tensor([ 0.0263, -0.0671,  0.0216,  ..., -0.1030, -0.0414,  0.1003]),\n",
       " 'PHF14': tensor([ 0.0416, -0.0162, -0.0074,  ..., -0.0954,  0.0244,  0.0512]),\n",
       " 'MBTPS1': tensor([ 0.0099, -0.0885,  0.0009,  ..., -0.1696, -0.0379,  0.0902]),\n",
       " 'RAF1': tensor([ 0.0207, -0.0247, -0.0464,  ..., -0.1585,  0.0768,  0.0658]),\n",
       " 'HMGN1': tensor([ 0.0426, -0.0457, -0.1538,  ..., -0.2530, -0.0020, -0.0506]),\n",
       " 'MKI67': tensor([-0.0427, -0.1423,  0.0182,  ..., -0.0179,  0.0864, -0.0482]),\n",
       " 'ZNF426': tensor([-0.0335, -0.0325,  0.0450,  ...,  0.0700,  0.0670, -0.0113]),\n",
       " 'SLC25A3': tensor([ 0.0091, -0.0345, -0.0641,  ..., -0.1068,  0.0184,  0.1064]),\n",
       " 'SHPRH': tensor([ 0.0313, -0.0767, -0.0145,  ..., -0.1097,  0.0584,  0.1093]),\n",
       " 'INSIG1': tensor([-0.0319,  0.1024,  0.0714,  ..., -0.0123, -0.0141,  0.0777]),\n",
       " 'UQCRQ': tensor([ 0.0380,  0.0454, -0.0761,  ..., -0.0931,  0.0058,  0.0449]),\n",
       " 'DZIP3': tensor([ 0.0312, -0.0385, -0.0255,  ..., -0.0534,  0.0026,  0.0595]),\n",
       " 'ATM': tensor([ 0.0475,  0.0024,  0.0435,  ..., -0.0172, -0.0063,  0.0541]),\n",
       " 'CDCA2': tensor([ 0.0502, -0.0956,  0.0854,  ..., -0.0464,  0.0386, -0.0032]),\n",
       " 'SEC62': tensor([ 0.0447, -0.0489, -0.0289,  ..., -0.0277,  0.0023,  0.0206])}"
      ]
     },
     "execution_count": 94,
     "metadata": {},
     "output_type": "execute_result"
    }
   ],
   "source": [
    "adata.write_h5ad(\"../vcc_sample.h5ad\")"
   ]
  },
  {
   "cell_type": "code",
   "execution_count": 23,
   "id": "c07acd3a",
   "metadata": {},
   "outputs": [],
   "source": [
    "adata.obs['control'] = [(lambda x: True if x == \"non-targeting\" else False)(x) for x in adata.obs['target_gene']]"
   ]
  },
  {
   "cell_type": "code",
   "execution_count": 24,
   "id": "744a447b",
   "metadata": {},
   "outputs": [
    {
     "name": "stderr",
     "output_type": "stream",
     "text": [
      "/var/folders/9t/47g679_n6zvcr33prvzd5qzh0000gn/T/ipykernel_44329/1331286950.py:14: ImplicitModificationWarning: Trying to modify attribute `.obs` of view, initializing view as actual.\n",
      "  x_eval.obs['target_gene'] = random.sample(list(y_eval.obs['target_gene']), x_eval.n_obs)\n"
     ]
    }
   ],
   "source": [
    "# Split train_test data\n",
    "x = adata[adata.obs['control'] == True]\n",
    "y = adata[adata.obs['control'] == False]\n",
    "# For runability test, sample little data\n",
    "x_t = sc.pp.sample(x, n = 1000, copy = True)\n",
    "y_t = sc.pp.sample(y, n = 5000, copy = True)\n",
    "x_train = x_t[:500, :]\n",
    "y_train = y_t[:2500, :]\n",
    "x_eval = x_t[500:, :]\n",
    "y_eval = y_t[2500:, :]\n",
    "\n",
    "train = anndata.concat([x_train, y_train])\n",
    "eval = anndata.concat([x_eval, y_eval])\n",
    "x_eval.obs['target_gene'] = random.sample(list(y_eval.obs['target_gene']), x_eval.n_obs)"
   ]
  },
  {
   "cell_type": "code",
   "execution_count": 25,
   "id": "64eb7135",
   "metadata": {},
   "outputs": [],
   "source": [
    "# Parameters for preparing data\n",
    "sample_rep = \"X\"\n",
    "control_key = \"control\"\n",
    "perturbation_covariates = {\"gene\": (\"target_gene\",)}\n",
    "split_covariates = [\"batch\"]\n",
    "perturbation_covariate_reps = {\"gene\": \"gene_embedding\"}\n",
    "sample_covariates = None\n",
    "sample_covariate_reps = None"
   ]
  },
  {
   "cell_type": "code",
   "execution_count": 26,
   "id": "5891847c",
   "metadata": {},
   "outputs": [],
   "source": [
    "# If embedding is ready, load it\n",
    "import pickle\n",
    "import torch\n",
    "embedding = pickle.load(open(\"subsample_gene_embedding.pkl\", \"rb\"))"
   ]
  },
  {
   "cell_type": "code",
   "execution_count": null,
   "id": "4372f0b4-3739-42c2-a58d-6a9814a5dffe",
   "metadata": {},
   "outputs": [],
   "source": [
    "# If not, prepare gene embeddings\n",
    "# Sort out target genes\n",
    "genes = adata.obs[adata.obs['control'] == False]['target_gene'].to_list()\n",
    "genes = list(set(genes))\n",
    "\n",
    "embedding = pd.DataFrame(columns=[\"gene\", \"protein\", \"embedding\"])\n",
    "embedding[\"gene\"] = genes\n",
    "embedding.index = genes\n",
    "embedding[\"protein\"] = embedding['gene'].apply(get_protein_sequence_by_gene)"
   ]
  },
  {
   "cell_type": "code",
   "execution_count": null,
   "id": "601a3c46",
   "metadata": {},
   "outputs": [],
   "source": [
    "converter = ESMConverter(\"esm2_t33_650M_UR50D\")\n",
    "sequences = list(zip(embedding['gene'], embedding['protein']))\n",
    "em = []\n",
    "for s in sequences:\n",
    "  em.append(converter.convert([s]))\n",
    "embedding['embedding'] = em\n",
    "embedding['embedding'] = embedding['embedding'].apply(torch.flatten)\n",
    "# Save embedding to pickle\n",
    "pd.to_pickle(embedding,\"subsample_gene_embedding.pkl\")"
   ]
  },
  {
   "cell_type": "code",
   "execution_count": null,
   "id": "c7f24e5b",
   "metadata": {},
   "outputs": [],
   "source": [
    "adata.uns['gene_embedding'] = {}\n",
    "for g in embedding['gene']:\n",
    "    adata.uns['gene_embedding'][g] = embedding.loc[g]['embedding']"
   ]
  },
  {
   "cell_type": "code",
   "execution_count": 28,
   "id": "6c0b67bb",
   "metadata": {},
   "outputs": [],
   "source": [
    "train.uns = adata.uns\n",
    "eval.uns = adata.uns"
   ]
  },
  {
   "cell_type": "code",
   "execution_count": 29,
   "id": "93c2c3e1",
   "metadata": {},
   "outputs": [],
   "source": [
    "cf = CellFlow(train)"
   ]
  },
  {
   "cell_type": "code",
   "execution_count": 30,
   "id": "ffd4f470-5620-4560-9bf4-ba3adec758d6",
   "metadata": {},
   "outputs": [
    {
     "name": "stderr",
     "output_type": "stream",
     "text": [
      "/opt/miniconda3/lib/python3.13/site-packages/cellflow/data/_datamanager.py:337: SettingWithCopyWarning: \n",
      "A value is trying to be set on a copy of a slice from a DataFrame.\n",
      "Try using .loc[row_indexer,col_indexer] = value instead\n",
      "\n",
      "See the caveats in the documentation: https://pandas.pydata.org/pandas-docs/stable/user_guide/indexing.html#returning-a-view-versus-a-copy\n",
      "  _covariate_data[\"cell_index\"] = _covariate_data.index\n",
      "100%|██████████| 44/44 [00:00<00:00, 1458.74it/s]\n",
      "100%|██████████| 38/38 [00:00<00:00, 1822.09it/s]\n",
      "100%|██████████| 38/38 [00:00<00:00, 1789.50it/s]\n",
      "100%|██████████| 46/46 [00:00<00:00, 1704.97it/s]\n",
      "100%|██████████| 45/45 [00:00<00:00, 1624.08it/s]\n",
      "100%|██████████| 50/50 [00:00<00:00, 1635.70it/s]\n",
      "100%|██████████| 42/42 [00:00<00:00, 1576.93it/s]\n",
      "100%|██████████| 35/35 [00:00<00:00, 1720.67it/s]\n",
      "100%|██████████| 38/38 [00:00<00:00, 1729.23it/s]\n",
      "100%|██████████| 44/44 [00:00<00:00, 1732.14it/s]\n",
      "100%|██████████| 36/36 [00:00<00:00, 1609.17it/s]\n",
      "100%|██████████| 35/35 [00:00<00:00, 1636.50it/s]\n",
      "100%|██████████| 35/35 [00:00<00:00, 1700.75it/s]\n",
      "100%|██████████| 45/45 [00:00<00:00, 1637.56it/s]\n",
      "100%|██████████| 44/44 [00:00<00:00, 1729.56it/s]\n",
      "100%|██████████| 38/38 [00:00<00:00, 1545.54it/s]\n",
      "100%|██████████| 41/41 [00:00<00:00, 1331.29it/s]\n",
      "100%|██████████| 43/43 [00:00<00:00, 1378.87it/s]\n",
      "100%|██████████| 35/35 [00:00<00:00, 1277.59it/s]\n",
      "100%|██████████| 40/40 [00:00<00:00, 1448.33it/s]\n",
      "100%|██████████| 43/43 [00:00<00:00, 1402.07it/s]\n",
      "100%|██████████| 41/41 [00:00<00:00, 1384.01it/s]\n",
      "100%|██████████| 41/41 [00:00<00:00, 1389.25it/s]\n",
      "100%|██████████| 48/48 [00:00<00:00, 668.44it/s]\n",
      "100%|██████████| 48/48 [00:00<00:00, 1500.28it/s]\n",
      "100%|██████████| 44/44 [00:00<00:00, 1615.81it/s]\n",
      "100%|██████████| 49/49 [00:00<00:00, 1656.29it/s]\n",
      "100%|██████████| 46/46 [00:00<00:00, 1567.93it/s]\n",
      "100%|██████████| 40/40 [00:00<00:00, 1694.07it/s]\n",
      "100%|██████████| 49/49 [00:00<00:00, 1403.37it/s]\n",
      "100%|██████████| 38/38 [00:00<00:00, 1716.13it/s]\n",
      "100%|██████████| 45/45 [00:00<00:00, 1725.85it/s]\n",
      "100%|██████████| 45/45 [00:00<00:00, 1664.45it/s]\n",
      "100%|██████████| 45/45 [00:00<00:00, 1674.11it/s]\n",
      "100%|██████████| 38/38 [00:00<00:00, 1742.16it/s]\n",
      "100%|██████████| 39/39 [00:00<00:00, 1504.40it/s]\n",
      "100%|██████████| 38/38 [00:00<00:00, 1599.32it/s]\n",
      "100%|██████████| 41/41 [00:00<00:00, 1492.38it/s]\n",
      "100%|██████████| 38/38 [00:00<00:00, 1483.85it/s]\n",
      "100%|██████████| 49/49 [00:00<00:00, 1584.89it/s]\n",
      "100%|██████████| 44/44 [00:00<00:00, 1468.73it/s]\n",
      "100%|██████████| 46/46 [00:00<00:00, 1658.91it/s]\n",
      "100%|██████████| 45/45 [00:00<00:00, 1727.77it/s]\n",
      "100%|██████████| 37/37 [00:00<00:00, 1587.86it/s]\n",
      "100%|██████████| 36/36 [00:00<00:00, 1585.50it/s]\n",
      "100%|██████████| 47/47 [00:00<00:00, 1681.70it/s]\n",
      "100%|██████████| 50/50 [00:00<00:00, 1732.07it/s]\n",
      "100%|██████████| 45/45 [00:00<00:00, 1749.81it/s]\n"
     ]
    }
   ],
   "source": [
    "cf.prepare_data(\n",
    "    sample_rep = sample_rep,\n",
    "    control_key = control_key,\n",
    "    perturbation_covariates = perturbation_covariates,\n",
    "    perturbation_covariate_reps = perturbation_covariate_reps,\n",
    "    split_covariates = split_covariates,\n",
    ")"
   ]
  },
  {
   "cell_type": "code",
   "execution_count": 33,
   "id": "3f1168f3",
   "metadata": {},
   "outputs": [],
   "source": [
    "cf.prepare_model(condition_embedding_dim=128, time_freqs=64, time_encoder_dims=(128,128,128), hidden_dims=(128,128,128), decoder_dims=(256,256,256))"
   ]
  },
  {
   "cell_type": "code",
   "execution_count": 34,
   "id": "eb4b30d2",
   "metadata": {},
   "outputs": [
    {
     "name": "stderr",
     "output_type": "stream",
     "text": [
      "/opt/miniconda3/lib/python3.13/site-packages/cellflow/data/_datamanager.py:337: SettingWithCopyWarning: \n",
      "A value is trying to be set on a copy of a slice from a DataFrame.\n",
      "Try using .loc[row_indexer,col_indexer] = value instead\n",
      "\n",
      "See the caveats in the documentation: https://pandas.pydata.org/pandas-docs/stable/user_guide/indexing.html#returning-a-view-versus-a-copy\n",
      "  _covariate_data[\"cell_index\"] = _covariate_data.index\n",
      "100%|██████████| 38/38 [00:00<00:00, 1546.65it/s]\n",
      "100%|██████████| 33/33 [00:00<00:00, 1679.66it/s]\n",
      "100%|██████████| 44/44 [00:00<00:00, 1752.94it/s]\n",
      "100%|██████████| 45/45 [00:00<00:00, 1741.02it/s]\n",
      "100%|██████████| 43/43 [00:00<00:00, 1777.60it/s]\n",
      "100%|██████████| 46/46 [00:00<00:00, 1679.63it/s]\n",
      "100%|██████████| 30/30 [00:00<00:00, 1542.40it/s]\n",
      "100%|██████████| 48/48 [00:00<00:00, 1761.54it/s]\n",
      "100%|██████████| 41/41 [00:00<00:00, 1593.73it/s]\n",
      "100%|██████████| 47/47 [00:00<00:00, 1729.97it/s]\n",
      "100%|██████████| 37/37 [00:00<00:00, 1796.57it/s]\n",
      "100%|██████████| 40/40 [00:00<00:00, 1580.22it/s]\n",
      "100%|██████████| 42/42 [00:00<00:00, 1856.69it/s]\n",
      "100%|██████████| 45/45 [00:00<00:00, 889.40it/s]\n",
      "100%|██████████| 38/38 [00:00<00:00, 1352.42it/s]\n",
      "100%|██████████| 43/43 [00:00<00:00, 1800.13it/s]\n",
      "100%|██████████| 38/38 [00:00<00:00, 1768.69it/s]\n",
      "100%|██████████| 49/49 [00:00<00:00, 1822.64it/s]\n",
      "100%|██████████| 45/45 [00:00<00:00, 1715.52it/s]\n",
      "100%|██████████| 49/49 [00:00<00:00, 1798.04it/s]\n",
      "100%|██████████| 53/53 [00:00<00:00, 1806.98it/s]\n",
      "100%|██████████| 35/35 [00:00<00:00, 1541.76it/s]\n",
      "100%|██████████| 46/46 [00:00<00:00, 1564.46it/s]\n",
      "100%|██████████| 40/40 [00:00<00:00, 1382.80it/s]\n",
      "100%|██████████| 35/35 [00:00<00:00, 1510.51it/s]\n",
      "100%|██████████| 38/38 [00:00<00:00, 1348.71it/s]\n",
      "100%|██████████| 52/52 [00:00<00:00, 1245.69it/s]\n",
      "100%|██████████| 36/36 [00:00<00:00, 1415.04it/s]\n",
      "100%|██████████| 51/51 [00:00<00:00, 1602.87it/s]\n",
      "100%|██████████| 55/55 [00:00<00:00, 770.99it/s]\n",
      "100%|██████████| 43/43 [00:00<00:00, 1558.52it/s]\n",
      "100%|██████████| 40/40 [00:00<00:00, 1625.62it/s]\n",
      "100%|██████████| 37/37 [00:00<00:00, 1407.17it/s]\n",
      "100%|██████████| 43/43 [00:00<00:00, 1504.24it/s]\n",
      "100%|██████████| 48/48 [00:00<00:00, 1746.85it/s]\n",
      "100%|██████████| 47/47 [00:00<00:00, 1530.86it/s]\n",
      "100%|██████████| 42/42 [00:00<00:00, 1654.01it/s]\n",
      "100%|██████████| 38/38 [00:00<00:00, 1499.90it/s]\n",
      "100%|██████████| 38/38 [00:00<00:00, 1412.49it/s]\n",
      "100%|██████████| 38/38 [00:00<00:00, 1538.66it/s]\n",
      "100%|██████████| 45/45 [00:00<00:00, 1571.06it/s]\n",
      "100%|██████████| 42/42 [00:00<00:00, 1645.95it/s]\n",
      "100%|██████████| 42/42 [00:00<00:00, 1863.19it/s]\n",
      "100%|██████████| 38/38 [00:00<00:00, 1635.17it/s]\n",
      "100%|██████████| 36/36 [00:00<00:00, 1594.69it/s]\n",
      "100%|██████████| 43/43 [00:00<00:00, 1592.17it/s]\n",
      "100%|██████████| 40/40 [00:00<00:00, 1659.06it/s]\n",
      "100%|██████████| 39/39 [00:00<00:00, 1351.67it/s]\n"
     ]
    }
   ],
   "source": [
    "cf.prepare_validation_data(eval, name = \"test\")"
   ]
  },
  {
   "cell_type": "code",
   "execution_count": 35,
   "id": "b4e77429",
   "metadata": {},
   "outputs": [
    {
     "name": "stderr",
     "output_type": "stream",
     "text": [
      "100%|██████████| 1/1 [00:04<00:00,  4.75s/it]\n"
     ]
    }
   ],
   "source": [
    "cf.train(num_iterations=1, batch_size = 512)"
   ]
  },
  {
   "cell_type": "code",
   "execution_count": 45,
   "id": "895e4064",
   "metadata": {},
   "outputs": [],
   "source": [
    "cf.save(\"./models/\",\"cf-128-256\", overwrite=False)"
   ]
  },
  {
   "cell_type": "code",
   "execution_count": 86,
   "id": "b253b619",
   "metadata": {},
   "outputs": [
    {
     "name": "stderr",
     "output_type": "stream",
     "text": [
      "/opt/miniconda3/lib/python3.13/site-packages/cellflow/data/_datamanager.py:337: SettingWithCopyWarning: \n",
      "A value is trying to be set on a copy of a slice from a DataFrame.\n",
      "Try using .loc[row_indexer,col_indexer] = value instead\n",
      "\n",
      "See the caveats in the documentation: https://pandas.pydata.org/pandas-docs/stable/user_guide/indexing.html#returning-a-view-versus-a-copy\n",
      "  _covariate_data[\"cell_index\"] = _covariate_data.index\n",
      "100%|██████████| 13/13 [00:00<00:00, 1827.89it/s]\n"
     ]
    }
   ],
   "source": [
    "res = cf.predict(x_eval, covariate_data=x_eval.obs, sample_rep = \"X\")"
   ]
  },
  {
   "cell_type": "code",
   "execution_count": 91,
   "id": "30daa611",
   "metadata": {},
   "outputs": [],
   "source": [
    "pickle.dump(res, open(\"result.pkl\", \"wb\"))"
   ]
  },
  {
   "cell_type": "code",
   "execution_count": 63,
   "id": "ed997d20",
   "metadata": {},
   "outputs": [],
   "source": [
    "x_eval = x_eval[x_eval.obs['batch'] == \"Flex_1_10\"]"
   ]
  },
  {
   "cell_type": "code",
   "execution_count": 51,
   "id": "612904a2",
   "metadata": {},
   "outputs": [],
   "source": [
    "cf.adata.uns['gene_embedding']['OXCT1'] = res"
   ]
  },
  {
   "cell_type": "code",
   "execution_count": 40,
   "id": "b8b7694d",
   "metadata": {},
   "outputs": [
    {
     "name": "stdout",
     "output_type": "stream",
     "text": [
      "Fetched: 500 / 688\n"
     ]
    }
   ],
   "source": [
    "s = get_protein_sequence_by_gene(\"OXCT1\")\n"
   ]
  },
  {
   "cell_type": "code",
   "execution_count": 42,
   "id": "5c22b946",
   "metadata": {},
   "outputs": [],
   "source": [
    "converter = ESMConverter(\"esm2_t33_650M_UR50D\")\n",
    "res = converter.convert([(\"OXCT1\", s)])"
   ]
  },
  {
   "cell_type": "code",
   "execution_count": 83,
   "id": "607e824e",
   "metadata": {},
   "outputs": [
    {
     "data": {
      "text/plain": [
       "(15, 18080)"
      ]
     },
     "execution_count": 83,
     "metadata": {},
     "output_type": "execute_result"
    }
   ],
   "source": [
    "x_eval.obsm[\"pred_('ACVR1B', 'Flex_1_10')\"].shape"
   ]
  },
  {
   "cell_type": "code",
   "execution_count": null,
   "id": "d0562bd7",
   "metadata": {},
   "outputs": [
    {
     "data": {
      "text/plain": [
       "AnnData object with n_obs × n_vars = 15 × 18080\n",
       "    obs: 'target_gene', 'guide_id', 'batch', 'control'\n",
       "    var: 'gene_id'\n",
       "    uns: 'gene_embedding', 'OXCT1'\n",
       "    obsm: \"pred_('ACVR1B', 'Flex_1_10')\", \"pred_('AKT2', 'Flex_1_10')\", \"pred_('BIRC2', 'Flex_1_10')\", \"pred_('CLDN6', 'Flex_1_10')\", \"pred_('HMGN1', 'Flex_1_10')\", \"pred_('IGF2R', 'Flex_1_10')\", \"pred_('INSIG1', 'Flex_1_10')\", \"pred_('KAT2A', 'Flex_1_10')\", \"pred_('KDR', 'Flex_1_10')\", \"pred_('OXCT1', 'Flex_1_10')\", \"pred_('POLB', 'Flex_1_10')\", \"pred_('TADA1', 'Flex_1_10')\", \"pred_('WFS1', 'Flex_1_10')\""
      ]
     },
     "execution_count": 84,
     "metadata": {},
     "output_type": "execute_result"
    }
   ],
   "source": [
    "x_eval.obsm"
   ]
  }
 ],
 "metadata": {
  "kernelspec": {
   "display_name": "base",
   "language": "python",
   "name": "python3"
  },
  "language_info": {
   "codemirror_mode": {
    "name": "ipython",
    "version": 3
   },
   "file_extension": ".py",
   "mimetype": "text/x-python",
   "name": "python",
   "nbconvert_exporter": "python",
   "pygments_lexer": "ipython3",
   "version": "3.13.5"
  }
 },
 "nbformat": 4,
 "nbformat_minor": 5
}
