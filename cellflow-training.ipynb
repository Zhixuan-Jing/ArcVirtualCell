{
 "cells": [
  {
   "cell_type": "code",
   "execution_count": 49,
   "id": "a1514a2d",
   "metadata": {},
   "outputs": [],
   "source": [
    "import scanpy as sc\n",
    "from cellflow.model import CellFlow\n",
    "import requests\n",
    "import pandas as pd\n",
    "import anndata\n",
    "import random\n",
    "import torch\n",
    "from esm import pretrained"
   ]
  },
  {
   "cell_type": "code",
   "execution_count": 50,
   "id": "77b99c99",
   "metadata": {},
   "outputs": [],
   "source": [
    "class ESMConverter:\n",
    "  def __init__(self, model:str):\n",
    "    self.model, self.alphabet = pretrained.load_model_and_alphabet(model)\n",
    "    self.batch_converter = self.alphabet.get_batch_converter()\n",
    "\n",
    "  def convert(self, sequences):\n",
    "    batch_labels, batch_strs, batch_tokens = self.batch_converter(sequences)\n",
    "    with torch.no_grad():\n",
    "      token_embeddings = self.model(batch_tokens, repr_layers=[33])\n",
    "      embeddings = token_embeddings['representations'][33]\n",
    "      average_embeddings = embeddings.mean(dim=1)\n",
    "    return average_embeddings"
   ]
  },
  {
   "cell_type": "code",
   "execution_count": 51,
   "id": "d29a3de2",
   "metadata": {},
   "outputs": [],
   "source": [
    "from UniProtMapper import ProtMapper\n",
    "def get_protein_sequence_by_gene(gene_name):\n",
    "    mapper = ProtMapper()\n",
    "    result, failed = mapper.get(\n",
    "        ids=gene_name, from_db=\"Gene_Name\", to_db=\"UniProtKB\"\n",
    "    )\n",
    "    result = result[(result['Organism'] == \"Homo sapiens (Human)\")&(result['Reviewed'] == \"reviewed\")]\n",
    "    protein = result.iloc[0][\"Entry\"]\n",
    "    # print(protein)\n",
    "    # Define the UniProt API endpoint\n",
    "    sequence_url = f\"https://www.uniprot.org/uniprot/{protein}.fasta\"\n",
    "    sequence_response = requests.get(sequence_url)\n",
    "        \n",
    "    if sequence_response.status_code == 200:\n",
    "        # Extract and return the protein sequence\n",
    "        sequence = ''.join(sequence_response.text.splitlines()[1:])\n",
    "        return sequence\n",
    "    else:\n",
    "        return \"NONE\"\n",
    "\n",
    "# Example usage\n",
    "# gene_name = \"PTPRC\"  # Replace with your gene name\n",
    "# protein_sequence = get_protein_sequence_by_gene(gene_name)\n",
    "# print(f\"Protein Sequence for {gene_name}:\\n{protein_sequence}\")"
   ]
  },
  {
   "cell_type": "code",
   "execution_count": 52,
   "id": "67ddd137",
   "metadata": {},
   "outputs": [],
   "source": [
    "# filePath = \"data/vcc_data/adata_Training.h5ad\"\n",
    "filePath = \"../vcc_sample.h5ad\""
   ]
  },
  {
   "cell_type": "code",
   "execution_count": 53,
   "id": "b2a19444",
   "metadata": {},
   "outputs": [],
   "source": [
    "adata = sc.read_h5ad(filePath)"
   ]
  },
  {
   "cell_type": "code",
   "execution_count": 54,
   "id": "9ad92b75",
   "metadata": {},
   "outputs": [
    {
     "data": {
      "text/plain": [
       "AnnData object with n_obs × n_vars = 88509 × 18080\n",
       "    obs: 'target_gene', 'guide_id', 'batch', 'control'\n",
       "    var: 'gene_id'"
      ]
     },
     "execution_count": 54,
     "metadata": {},
     "output_type": "execute_result"
    }
   ],
   "source": [
    "adata"
   ]
  },
  {
   "cell_type": "code",
   "execution_count": 55,
   "id": "c07acd3a",
   "metadata": {},
   "outputs": [],
   "source": [
    "adata.obs['control'] = [(lambda x: True if x == \"non-targeting\" else False)(x) for x in adata.obs['target_gene']]"
   ]
  },
  {
   "cell_type": "code",
   "execution_count": null,
   "id": "744a447b",
   "metadata": {},
   "outputs": [
    {
     "name": "stderr",
     "output_type": "stream",
     "text": [
      "/var/folders/9t/47g679_n6zvcr33prvzd5qzh0000gn/T/ipykernel_42954/680383541.py:13: ImplicitModificationWarning: Trying to modify attribute `.obs` of view, initializing view as actual.\n",
      "  x_eval.obs['target_gene'] = random.sample(list(y_eval.obs['target_gene']), x_eval.n_obs)\n"
     ]
    }
   ],
   "source": [
    "# Split train_test data\n",
    "x = adata[adata.obs['control'] == True]\n",
    "y = adata[adata.obs['control'] == False]\n",
    "# For runability test, sample little data\n",
    "x_t = sc.pp.sample(x, n = 1000, copy = True)\n",
    "y_t = sc.pp.sample(y, n = 5000, copy = True)\n",
    "x_train = x_t[:500, :]\n",
    "y_train = y_t[:2500, :]\n",
    "x_eval = x_t[500:, :]\n",
    "y_eval = y_t[2500:, :]\n",
    "\n",
    "train = anndata.concat([x_train, y_train])\n",
    "eval = anndata.concat([x_eval, y_eval])\n",
    "x_eval.obs['target_gene'] = random.sample(list(y_eval.obs['target_gene']), x_eval.n_obs)"
   ]
  },
  {
   "cell_type": "code",
   "execution_count": 56,
   "id": "64eb7135",
   "metadata": {},
   "outputs": [],
   "source": [
    "# Parameters for preparing data\n",
    "sample_rep = \"X\"\n",
    "control_key = \"control\"\n",
    "perturbation_covariates = {\"gene\": (\"target_gene\",)}\n",
    "split_covariates = [\"batch\"]\n",
    "perturbation_covariate_reps = {\"gene\": \"gene_embedding\"}\n",
    "sample_covariates = None\n",
    "sample_covariate_reps = None"
   ]
  },
  {
   "cell_type": "code",
   "execution_count": 57,
   "id": "5891847c",
   "metadata": {},
   "outputs": [],
   "source": [
    "# If embedding is ready, load it\n",
    "import pickle\n",
    "import torch\n",
    "embedding = pickle.load(open(\"subsample_gene_embedding.pkl\", \"rb\"))"
   ]
  },
  {
   "cell_type": "code",
   "execution_count": null,
   "id": "4372f0b4-3739-42c2-a58d-6a9814a5dffe",
   "metadata": {},
   "outputs": [],
   "source": [
    "# If not, prepare gene embeddings\n",
    "# Sort out target genes\n",
    "genes = adata.obs[adata.obs['control'] == False]['target_gene'].to_list()\n",
    "genes = list(set(genes))\n",
    "\n",
    "embedding = pd.DataFrame(columns=[\"gene\", \"protein\", \"embedding\"])\n",
    "embedding[\"gene\"] = genes\n",
    "embedding.index = genes\n",
    "embedding[\"protein\"] = embedding['gene'].apply(get_protein_sequence_by_gene)"
   ]
  },
  {
   "cell_type": "code",
   "execution_count": null,
   "id": "601a3c46",
   "metadata": {},
   "outputs": [],
   "source": [
    "converter = ESMConverter(\"esm2_t33_650M_UR50D\")\n",
    "sequences = list(zip(embedding['gene'], embedding['protein']))\n",
    "em = []\n",
    "for s in sequences:\n",
    "  em.append(converter.convert([s]))\n",
    "embedding['embedding'] = em\n",
    "# Save embedding to pickle\n",
    "pd.to_pickle(embedding,\"subsample_gene_embedding.pkl\")"
   ]
  },
  {
   "cell_type": "code",
   "execution_count": 58,
   "id": "c7f24e5b",
   "metadata": {},
   "outputs": [],
   "source": [
    "embedding['embedding'] = embedding['embedding'].apply(torch.flatten)\n",
    "adata.uns['gene_embedding'] = {}\n",
    "for g in embedding['gene']:\n",
    "    adata.uns['gene_embedding'][g] = embedding.loc[g]['embedding']"
   ]
  },
  {
   "cell_type": "code",
   "execution_count": null,
   "id": "6c0b67bb",
   "metadata": {},
   "outputs": [],
   "source": [
    "train.uns = adata.uns\n",
    "eval.uns = adata.uns"
   ]
  },
  {
   "cell_type": "code",
   "execution_count": 69,
   "id": "93c2c3e1",
   "metadata": {},
   "outputs": [],
   "source": [
    "cf = CellFlow(train)"
   ]
  },
  {
   "cell_type": "code",
   "execution_count": 70,
   "id": "ffd4f470-5620-4560-9bf4-ba3adec758d6",
   "metadata": {},
   "outputs": [
    {
     "name": "stderr",
     "output_type": "stream",
     "text": [
      "/opt/miniconda3/lib/python3.13/site-packages/cellflow/data/_datamanager.py:337: SettingWithCopyWarning: \n",
      "A value is trying to be set on a copy of a slice from a DataFrame.\n",
      "Try using .loc[row_indexer,col_indexer] = value instead\n",
      "\n",
      "See the caveats in the documentation: https://pandas.pydata.org/pandas-docs/stable/user_guide/indexing.html#returning-a-view-versus-a-copy\n",
      "  _covariate_data[\"cell_index\"] = _covariate_data.index\n",
      "100%|██████████| 43/43 [00:00<00:00, 590.64it/s]\n",
      "100%|██████████| 46/46 [00:00<00:00, 1772.85it/s]\n",
      "100%|██████████| 35/35 [00:00<00:00, 1690.18it/s]\n",
      "100%|██████████| 37/37 [00:00<00:00, 1685.72it/s]\n",
      "100%|██████████| 45/45 [00:00<00:00, 1949.65it/s]\n",
      "100%|██████████| 42/42 [00:00<00:00, 1644.20it/s]\n",
      "100%|██████████| 39/39 [00:00<00:00, 1654.56it/s]\n",
      "100%|██████████| 41/41 [00:00<00:00, 1726.07it/s]\n",
      "100%|██████████| 42/42 [00:00<00:00, 1754.68it/s]\n",
      "100%|██████████| 49/49 [00:00<00:00, 1452.93it/s]\n",
      "100%|██████████| 41/41 [00:00<00:00, 1689.24it/s]\n",
      "100%|██████████| 34/34 [00:00<00:00, 1649.85it/s]\n",
      "100%|██████████| 44/44 [00:00<00:00, 1722.86it/s]\n",
      "100%|██████████| 49/49 [00:00<00:00, 1546.23it/s]\n",
      "100%|██████████| 39/39 [00:00<00:00, 1470.80it/s]\n",
      "100%|██████████| 43/43 [00:00<00:00, 1448.30it/s]\n",
      "100%|██████████| 41/41 [00:00<00:00, 1452.05it/s]\n",
      "100%|██████████| 35/35 [00:00<00:00, 1383.61it/s]\n",
      "100%|██████████| 37/37 [00:00<00:00, 1575.67it/s]\n",
      "100%|██████████| 40/40 [00:00<00:00, 600.66it/s]\n",
      "100%|██████████| 38/38 [00:00<00:00, 1584.27it/s]\n",
      "100%|██████████| 37/37 [00:00<00:00, 1629.81it/s]\n",
      "100%|██████████| 45/45 [00:00<00:00, 1688.48it/s]\n",
      "100%|██████████| 45/45 [00:00<00:00, 1622.68it/s]\n",
      "100%|██████████| 42/42 [00:00<00:00, 1641.39it/s]\n",
      "100%|██████████| 43/43 [00:00<00:00, 1566.37it/s]\n",
      "100%|██████████| 47/47 [00:00<00:00, 1832.56it/s]\n",
      "100%|██████████| 44/44 [00:00<00:00, 1774.41it/s]\n",
      "100%|██████████| 43/43 [00:00<00:00, 1712.55it/s]\n",
      "100%|██████████| 41/41 [00:00<00:00, 1757.63it/s]\n",
      "100%|██████████| 41/41 [00:00<00:00, 1727.04it/s]\n",
      "100%|██████████| 45/45 [00:00<00:00, 1852.01it/s]\n",
      "100%|██████████| 52/52 [00:00<00:00, 1705.64it/s]\n",
      "100%|██████████| 44/44 [00:00<00:00, 1746.67it/s]\n",
      "100%|██████████| 48/48 [00:00<00:00, 1773.18it/s]\n",
      "100%|██████████| 43/43 [00:00<00:00, 1602.86it/s]\n",
      "100%|██████████| 47/47 [00:00<00:00, 1554.85it/s]\n",
      "100%|██████████| 44/44 [00:00<00:00, 1507.52it/s]\n",
      "100%|██████████| 38/38 [00:00<00:00, 1421.09it/s]\n",
      "100%|██████████| 50/50 [00:00<00:00, 1481.00it/s]\n",
      "100%|██████████| 42/42 [00:00<00:00, 1629.43it/s]\n",
      "100%|██████████| 46/46 [00:00<00:00, 1477.61it/s]\n",
      "100%|██████████| 38/38 [00:00<00:00, 1745.69it/s]\n",
      "100%|██████████| 43/43 [00:00<00:00, 1738.48it/s]\n",
      "100%|██████████| 44/44 [00:00<00:00, 852.38it/s]\n",
      "100%|██████████| 45/45 [00:00<00:00, 1758.09it/s]\n",
      "100%|██████████| 51/51 [00:00<00:00, 1730.39it/s]\n",
      "100%|██████████| 36/36 [00:00<00:00, 1632.68it/s]\n"
     ]
    }
   ],
   "source": [
    "cf.prepare_data(\n",
    "    sample_rep = sample_rep,\n",
    "    control_key = control_key,\n",
    "    perturbation_covariates = perturbation_covariates,\n",
    "    perturbation_covariate_reps = perturbation_covariate_reps,\n",
    "    split_covariates = split_covariates,\n",
    ")"
   ]
  },
  {
   "cell_type": "code",
   "execution_count": 71,
   "id": "3f1168f3",
   "metadata": {},
   "outputs": [],
   "source": [
    "cf.prepare_model()"
   ]
  },
  {
   "cell_type": "code",
   "execution_count": null,
   "id": "82c40b27",
   "metadata": {},
   "outputs": [],
   "source": []
  },
  {
   "cell_type": "code",
   "execution_count": 72,
   "id": "eb4b30d2",
   "metadata": {},
   "outputs": [
    {
     "name": "stderr",
     "output_type": "stream",
     "text": [
      "/opt/miniconda3/lib/python3.13/site-packages/cellflow/data/_datamanager.py:475: ImplicitModificationWarning: Trying to modify attribute `.obs` of view, initializing view as actual.\n",
      "  adata.obs[self._control_key] = adata.obs[self._control_key].astype(\"boolean\")\n"
     ]
    },
    {
     "ename": "ValueError",
     "evalue": "No control cells found in adata.",
     "output_type": "error",
     "traceback": [
      "\u001b[31m---------------------------------------------------------------------------\u001b[39m",
      "\u001b[31mValueError\u001b[39m                                Traceback (most recent call last)",
      "\u001b[36mCell\u001b[39m\u001b[36m \u001b[39m\u001b[32mIn[72]\u001b[39m\u001b[32m, line 1\u001b[39m\n\u001b[32m----> \u001b[39m\u001b[32m1\u001b[39m cf.prepare_validation_data(y_eval, name = \u001b[33m\"\u001b[39m\u001b[33mtest\u001b[39m\u001b[33m\"\u001b[39m)\n",
      "\u001b[36mFile \u001b[39m\u001b[32m/opt/miniconda3/lib/python3.13/site-packages/cellflow/model/_cellflow.py:223\u001b[39m, in \u001b[36mCellFlow.prepare_validation_data\u001b[39m\u001b[34m(self, adata, name, n_conditions_on_log_iteration, n_conditions_on_train_end)\u001b[39m\n\u001b[32m    219\u001b[39m \u001b[38;5;28;01mif\u001b[39;00m \u001b[38;5;28mself\u001b[39m.train_data \u001b[38;5;129;01mis\u001b[39;00m \u001b[38;5;28;01mNone\u001b[39;00m:\n\u001b[32m    220\u001b[39m     \u001b[38;5;28;01mraise\u001b[39;00m \u001b[38;5;167;01mValueError\u001b[39;00m(\n\u001b[32m    221\u001b[39m         \u001b[33m\"\u001b[39m\u001b[33mDataloader not initialized. Training data needs to be set up before preparing validation data. Please call prepare_data first.\u001b[39m\u001b[33m\"\u001b[39m\n\u001b[32m    222\u001b[39m     )\n\u001b[32m--> \u001b[39m\u001b[32m223\u001b[39m val_data = \u001b[38;5;28mself\u001b[39m._dm.get_validation_data(\n\u001b[32m    224\u001b[39m     adata,\n\u001b[32m    225\u001b[39m     n_conditions_on_log_iteration=n_conditions_on_log_iteration,\n\u001b[32m    226\u001b[39m     n_conditions_on_train_end=n_conditions_on_train_end,\n\u001b[32m    227\u001b[39m )\n\u001b[32m    228\u001b[39m \u001b[38;5;28mself\u001b[39m._validation_data[name] = val_data\n",
      "\u001b[36mFile \u001b[39m\u001b[32m/opt/miniconda3/lib/python3.13/site-packages/cellflow/data/_datamanager.py:170\u001b[39m, in \u001b[36mDataManager.get_validation_data\u001b[39m\u001b[34m(self, adata, n_conditions_on_log_iteration, n_conditions_on_train_end)\u001b[39m\n\u001b[32m    154\u001b[39m \u001b[38;5;250m\u001b[39m\u001b[33;03m\"\"\"Get validation data for the model.\u001b[39;00m\n\u001b[32m    155\u001b[39m \n\u001b[32m    156\u001b[39m \u001b[33;03mParameters\u001b[39;00m\n\u001b[32m   (...)\u001b[39m\u001b[32m    167\u001b[39m \u001b[33;03mValidation data for the model.\u001b[39;00m\n\u001b[32m    168\u001b[39m \u001b[33;03m\"\"\"\u001b[39;00m\n\u001b[32m    169\u001b[39m split_cov_combs = \u001b[38;5;28mself\u001b[39m._get_split_cov_combs(adata.obs)\n\u001b[32m--> \u001b[39m\u001b[32m170\u001b[39m cond_data = \u001b[38;5;28mself\u001b[39m._get_condition_data(split_cov_combs=split_cov_combs, adata=adata)\n\u001b[32m    171\u001b[39m cell_data = \u001b[38;5;28mself\u001b[39m._get_cell_data(adata)\n\u001b[32m    172\u001b[39m \u001b[38;5;28;01mreturn\u001b[39;00m ValidationData(\n\u001b[32m    173\u001b[39m     cell_data=cell_data,\n\u001b[32m    174\u001b[39m     split_covariates_mask=cond_data.split_covariates_mask,\n\u001b[32m   (...)\u001b[39m\u001b[32m    185\u001b[39m     n_conditions_on_train_end=n_conditions_on_train_end,\n\u001b[32m    186\u001b[39m )\n",
      "\u001b[36mFile \u001b[39m\u001b[32m/opt/miniconda3/lib/python3.13/site-packages/cellflow/data/_datamanager.py:316\u001b[39m, in \u001b[36mDataManager._get_condition_data\u001b[39m\u001b[34m(self, split_cov_combs, adata, covariate_data, rep_dict, condition_id_key)\u001b[39m\n\u001b[32m    311\u001b[39m \u001b[38;5;66;03m# check if all perturbation/split covariates and control cells are present in the input\u001b[39;00m\n\u001b[32m    312\u001b[39m \u001b[38;5;28mself\u001b[39m._verify_covariate_data(\n\u001b[32m    313\u001b[39m     covariate_data,\n\u001b[32m    314\u001b[39m     {covar: _to_list(covar) \u001b[38;5;28;01mfor\u001b[39;00m covar \u001b[38;5;129;01min\u001b[39;00m \u001b[38;5;28mself\u001b[39m._sample_covariates},\n\u001b[32m    315\u001b[39m )\n\u001b[32m--> \u001b[39m\u001b[32m316\u001b[39m \u001b[38;5;28mself\u001b[39m._verify_control_data(adata)\n\u001b[32m    317\u001b[39m \u001b[38;5;28mself\u001b[39m._verify_covariate_data(covariate_data, _to_list(\u001b[38;5;28mself\u001b[39m._split_covariates))\n\u001b[32m    319\u001b[39m \u001b[38;5;66;03m# extract unique combinations of perturbation covariates\u001b[39;00m\n",
      "\u001b[36mFile \u001b[39m\u001b[32m/opt/miniconda3/lib/python3.13/site-packages/cellflow/data/_datamanager.py:479\u001b[39m, in \u001b[36mDataManager._verify_control_data\u001b[39m\u001b[34m(self, adata)\u001b[39m\n\u001b[32m    477\u001b[39m         \u001b[38;5;28;01mraise\u001b[39;00m \u001b[38;5;167;01mValueError\u001b[39;00m(\u001b[33mf\u001b[39m\u001b[33m\"\u001b[39m\u001b[33mControl column \u001b[39m\u001b[33m'\u001b[39m\u001b[38;5;132;01m{\u001b[39;00m\u001b[38;5;28mself\u001b[39m._control_key\u001b[38;5;132;01m}\u001b[39;00m\u001b[33m'\u001b[39m\u001b[33m could not be converted to boolean.\u001b[39m\u001b[33m\"\u001b[39m) \u001b[38;5;28;01mfrom\u001b[39;00m\u001b[38;5;250m \u001b[39m\u001b[34;01me\u001b[39;00m\n\u001b[32m    478\u001b[39m \u001b[38;5;28;01mif\u001b[39;00m adata.obs[\u001b[38;5;28mself\u001b[39m._control_key].sum() == \u001b[32m0\u001b[39m:\n\u001b[32m--> \u001b[39m\u001b[32m479\u001b[39m     \u001b[38;5;28;01mraise\u001b[39;00m \u001b[38;5;167;01mValueError\u001b[39;00m(\u001b[33m\"\u001b[39m\u001b[33mNo control cells found in adata.\u001b[39m\u001b[33m\"\u001b[39m)\n",
      "\u001b[31mValueError\u001b[39m: No control cells found in adata."
     ]
    }
   ],
   "source": [
    "cf.prepare_validation_data(y_eval, name = \"test\")"
   ]
  },
  {
   "cell_type": "code",
   "execution_count": 16,
   "id": "b4e77429",
   "metadata": {},
   "outputs": [
    {
     "name": "stderr",
     "output_type": "stream",
     "text": [
      "  0%|          | 0/10 [00:00<?, ?it/s]/opt/miniconda3/lib/python3.13/site-packages/jax/_src/interpreters/mlir.py:1171: UserWarning: A large amount of constants were captured during lowering (5.16GB total). If this is intentional, disable this warning by setting JAX_CAPTURED_CONSTANTS_WARN_BYTES=-1. To obtain a report of where these constants were encountered, set JAX_CAPTURED_CONSTANTS_REPORT_FRAMES=-1.\n",
      "  warnings.warn(message)\n",
      "100%|██████████| 10/10 [01:23<00:00,  8.31s/it]\n"
     ]
    },
    {
     "ename": "KeyboardInterrupt",
     "evalue": "",
     "output_type": "error",
     "traceback": [
      "\u001b[31m---------------------------------------------------------------------------\u001b[39m",
      "\u001b[31mKeyboardInterrupt\u001b[39m                         Traceback (most recent call last)",
      "\u001b[36mCell\u001b[39m\u001b[36m \u001b[39m\u001b[32mIn[16]\u001b[39m\u001b[32m, line 1\u001b[39m\n\u001b[32m----> \u001b[39m\u001b[32m1\u001b[39m cf.train(num_iterations=\u001b[32m10\u001b[39m, batch_size = \u001b[32m512\u001b[39m)\n",
      "\u001b[36mFile \u001b[39m\u001b[32m/opt/miniconda3/lib/python3.13/site-packages/cellflow/model/_cellflow.py:540\u001b[39m, in \u001b[36mCellFlow.train\u001b[39m\u001b[34m(self, num_iterations, batch_size, valid_freq, callbacks, monitor_metrics)\u001b[39m\n\u001b[32m    537\u001b[39m \u001b[38;5;28mself\u001b[39m._dataloader = TrainSampler(data=\u001b[38;5;28mself\u001b[39m.train_data, batch_size=batch_size)\n\u001b[32m    538\u001b[39m validation_loaders = {k: ValidationSampler(v) \u001b[38;5;28;01mfor\u001b[39;00m k, v \u001b[38;5;129;01min\u001b[39;00m \u001b[38;5;28mself\u001b[39m.validation_data.items()}\n\u001b[32m--> \u001b[39m\u001b[32m540\u001b[39m \u001b[38;5;28mself\u001b[39m._solver = \u001b[38;5;28mself\u001b[39m.trainer.train(\n\u001b[32m    541\u001b[39m     dataloader=\u001b[38;5;28mself\u001b[39m._dataloader,\n\u001b[32m    542\u001b[39m     num_iterations=num_iterations,\n\u001b[32m    543\u001b[39m     valid_freq=valid_freq,\n\u001b[32m    544\u001b[39m     valid_loaders=validation_loaders,\n\u001b[32m    545\u001b[39m     callbacks=callbacks,\n\u001b[32m    546\u001b[39m     monitor_metrics=monitor_metrics,\n\u001b[32m    547\u001b[39m )\n",
      "\u001b[36mFile \u001b[39m\u001b[32m/opt/miniconda3/lib/python3.13/site-packages/cellflow/training/_trainer.py:135\u001b[39m, in \u001b[36mCellFlowTrainer.train\u001b[39m\u001b[34m(self, dataloader, num_iterations, valid_freq, valid_loaders, monitor_metrics, callbacks)\u001b[39m\n\u001b[32m    132\u001b[39m         pbar.set_postfix(postfix_dict)\n\u001b[32m    134\u001b[39m \u001b[38;5;28;01mif\u001b[39;00m num_iterations > \u001b[32m0\u001b[39m:\n\u001b[32m--> \u001b[39m\u001b[32m135\u001b[39m     valid_true_data, valid_pred_data = \u001b[38;5;28mself\u001b[39m._validation_step(valid_loaders, mode=\u001b[33m\"\u001b[39m\u001b[33mon_train_end\u001b[39m\u001b[33m\"\u001b[39m)\n\u001b[32m    136\u001b[39m     metrics = crun.on_train_end(valid_true_data, valid_pred_data)\n\u001b[32m    137\u001b[39m     \u001b[38;5;28mself\u001b[39m._update_logs(metrics)\n",
      "\u001b[36mFile \u001b[39m\u001b[32m/opt/miniconda3/lib/python3.13/site-packages/cellflow/training/_trainer.py:61\u001b[39m, in \u001b[36mCellFlowTrainer._validation_step\u001b[39m\u001b[34m(self, val_data, mode)\u001b[39m\n\u001b[32m     59\u001b[39m     condition = batch.get(\u001b[33m\"\u001b[39m\u001b[33mcondition\u001b[39m\u001b[33m\"\u001b[39m, \u001b[38;5;28;01mNone\u001b[39;00m)\n\u001b[32m     60\u001b[39m     true_tgt = batch[\u001b[33m\"\u001b[39m\u001b[33mtarget\u001b[39m\u001b[33m\"\u001b[39m]\n\u001b[32m---> \u001b[39m\u001b[32m61\u001b[39m     valid_pred_data[val_key] = jax.tree.map(\u001b[38;5;28mself\u001b[39m.solver.predict, src, condition)\n\u001b[32m     62\u001b[39m     valid_true_data[val_key] = true_tgt\n\u001b[32m     64\u001b[39m \u001b[38;5;28;01mreturn\u001b[39;00m valid_true_data, valid_pred_data\n",
      "\u001b[36mFile \u001b[39m\u001b[32m/opt/miniconda3/lib/python3.13/site-packages/jax/_src/tree.py:155\u001b[39m, in \u001b[36mmap\u001b[39m\u001b[34m(f, tree, is_leaf, *rest)\u001b[39m\n\u001b[32m    115\u001b[39m \u001b[38;5;28;01mdef\u001b[39;00m\u001b[38;5;250m \u001b[39m\u001b[34mmap\u001b[39m(f: Callable[..., Any],\n\u001b[32m    116\u001b[39m         tree: Any,\n\u001b[32m    117\u001b[39m         *rest: Any,\n\u001b[32m    118\u001b[39m         is_leaf: Callable[[Any], \u001b[38;5;28mbool\u001b[39m] | \u001b[38;5;28;01mNone\u001b[39;00m = \u001b[38;5;28;01mNone\u001b[39;00m) -> Any:\n\u001b[32m    119\u001b[39m \u001b[38;5;250m  \u001b[39m\u001b[33;03m\"\"\"Maps a multi-input function over pytree args to produce a new pytree.\u001b[39;00m\n\u001b[32m    120\u001b[39m \n\u001b[32m    121\u001b[39m \u001b[33;03m  Args:\u001b[39;00m\n\u001b[32m   (...)\u001b[39m\u001b[32m    153\u001b[39m \u001b[33;03m    - :func:`jax.tree.reduce`\u001b[39;00m\n\u001b[32m    154\u001b[39m \u001b[33;03m  \"\"\"\u001b[39;00m\n\u001b[32m--> \u001b[39m\u001b[32m155\u001b[39m   \u001b[38;5;28;01mreturn\u001b[39;00m tree_util.tree_map(f, tree, *rest, is_leaf=is_leaf)\n",
      "\u001b[36mFile \u001b[39m\u001b[32m/opt/miniconda3/lib/python3.13/site-packages/jax/_src/tree_util.py:361\u001b[39m, in \u001b[36mtree_map\u001b[39m\u001b[34m(f, tree, is_leaf, *rest)\u001b[39m\n\u001b[32m    359\u001b[39m leaves, treedef = tree_flatten(tree, is_leaf)\n\u001b[32m    360\u001b[39m all_leaves = [leaves] + [treedef.flatten_up_to(r) \u001b[38;5;28;01mfor\u001b[39;00m r \u001b[38;5;129;01min\u001b[39;00m rest]\n\u001b[32m--> \u001b[39m\u001b[32m361\u001b[39m \u001b[38;5;28;01mreturn\u001b[39;00m treedef.unflatten(f(*xs) \u001b[38;5;28;01mfor\u001b[39;00m xs \u001b[38;5;129;01min\u001b[39;00m \u001b[38;5;28mzip\u001b[39m(*all_leaves))\n",
      "\u001b[36mFile \u001b[39m\u001b[32m/opt/miniconda3/lib/python3.13/site-packages/jax/_src/tree_util.py:361\u001b[39m, in \u001b[36m<genexpr>\u001b[39m\u001b[34m(.0)\u001b[39m\n\u001b[32m    359\u001b[39m leaves, treedef = tree_flatten(tree, is_leaf)\n\u001b[32m    360\u001b[39m all_leaves = [leaves] + [treedef.flatten_up_to(r) \u001b[38;5;28;01mfor\u001b[39;00m r \u001b[38;5;129;01min\u001b[39;00m rest]\n\u001b[32m--> \u001b[39m\u001b[32m361\u001b[39m \u001b[38;5;28;01mreturn\u001b[39;00m treedef.unflatten(f(*xs) \u001b[38;5;28;01mfor\u001b[39;00m xs \u001b[38;5;129;01min\u001b[39;00m \u001b[38;5;28mzip\u001b[39m(*all_leaves))\n",
      "\u001b[36mFile \u001b[39m\u001b[32m/opt/miniconda3/lib/python3.13/site-packages/cellflow/solvers/_otfm.py:228\u001b[39m, in \u001b[36mOTFlowMatching.predict\u001b[39m\u001b[34m(self, x, condition, rng, **kwargs)\u001b[39m\n\u001b[32m    218\u001b[39m     result = diffrax.diffeqsolve(\n\u001b[32m    219\u001b[39m         ode_term,\n\u001b[32m    220\u001b[39m         t0=\u001b[32m0.0\u001b[39m,\n\u001b[32m   (...)\u001b[39m\u001b[32m    224\u001b[39m         **kwargs,\n\u001b[32m    225\u001b[39m     )\n\u001b[32m    226\u001b[39m     \u001b[38;5;28;01mreturn\u001b[39;00m result.ys[\u001b[32m0\u001b[39m]\n\u001b[32m--> \u001b[39m\u001b[32m228\u001b[39m x_pred = jax.jit(jax.vmap(solve_ode, in_axes=[\u001b[32m0\u001b[39m, \u001b[38;5;28;01mNone\u001b[39;00m, \u001b[38;5;28;01mNone\u001b[39;00m]))(x, condition, encoder_noise)\n\u001b[32m    229\u001b[39m \u001b[38;5;28;01mreturn\u001b[39;00m np.array(x_pred)\n",
      "    \u001b[31m[... skipping hidden 1 frame]\u001b[39m\n",
      "\u001b[36mFile \u001b[39m\u001b[32m/opt/miniconda3/lib/python3.13/site-packages/jax/_src/pjit.py:260\u001b[39m, in \u001b[36m_cpp_pjit.<locals>.cache_miss\u001b[39m\u001b[34m(*args, **kwargs)\u001b[39m\n\u001b[32m    255\u001b[39m \u001b[38;5;28;01mif\u001b[39;00m config.no_tracing.value:\n\u001b[32m    256\u001b[39m   \u001b[38;5;28;01mraise\u001b[39;00m \u001b[38;5;167;01mRuntimeError\u001b[39;00m(\u001b[33mf\u001b[39m\u001b[33m\"\u001b[39m\u001b[33mre-tracing function \u001b[39m\u001b[38;5;132;01m{\u001b[39;00mjit_info.fun_sourceinfo\u001b[38;5;132;01m}\u001b[39;00m\u001b[33m for \u001b[39m\u001b[33m\"\u001b[39m\n\u001b[32m    257\u001b[39m                      \u001b[33m\"\u001b[39m\u001b[33m`jit`, but \u001b[39m\u001b[33m'\u001b[39m\u001b[33mno_tracing\u001b[39m\u001b[33m'\u001b[39m\u001b[33m is set\u001b[39m\u001b[33m\"\u001b[39m)\n\u001b[32m    259\u001b[39m outs, out_flat, out_tree, args_flat, jaxpr, executable, pgle_profiler = \\\n\u001b[32m--> \u001b[39m\u001b[32m260\u001b[39m     _python_pjit_helper(fun, jit_info, *args, **kwargs)\n\u001b[32m    262\u001b[39m maybe_fastpath_data = _get_fastpath_data(\n\u001b[32m    263\u001b[39m     executable, out_tree, args_flat, out_flat, jaxpr.effects, jaxpr.consts,\n\u001b[32m    264\u001b[39m     jit_info.abstracted_axes, pgle_profiler)\n\u001b[32m    266\u001b[39m \u001b[38;5;28;01mreturn\u001b[39;00m outs, maybe_fastpath_data, _need_to_rebuild_with_fdo(pgle_profiler)\n",
      "\u001b[36mFile \u001b[39m\u001b[32m/opt/miniconda3/lib/python3.13/site-packages/jax/_src/pjit.py:147\u001b[39m, in \u001b[36m_python_pjit_helper\u001b[39m\u001b[34m(fun, jit_info, *args, **kwargs)\u001b[39m\n\u001b[32m    145\u001b[39m   args_flat = \u001b[38;5;28mmap\u001b[39m(core.full_lower, args_flat)\n\u001b[32m    146\u001b[39m   core.check_eval_args(args_flat)\n\u001b[32m--> \u001b[39m\u001b[32m147\u001b[39m   out_flat, compiled, profiler = _pjit_call_impl_python(*args_flat, **p.params)\n\u001b[32m    148\u001b[39m \u001b[38;5;28;01melse\u001b[39;00m:\n\u001b[32m    149\u001b[39m   out_flat = jit_p.bind(*args_flat, **p.params)\n",
      "\u001b[36mFile \u001b[39m\u001b[32m/opt/miniconda3/lib/python3.13/site-packages/jax/_src/pjit.py:1777\u001b[39m, in \u001b[36m_pjit_call_impl_python\u001b[39m\u001b[34m(jaxpr, in_shardings, out_shardings, in_layouts, out_layouts, donated_invars, ctx_mesh, name, keep_unused, inline, compiler_options_kvs, *args)\u001b[39m\n\u001b[32m   1769\u001b[39m     fingerprint = fingerprint.hex()\n\u001b[32m   1770\u001b[39m   distributed_debug_log((\u001b[33m\"\u001b[39m\u001b[33mRunning pjit\u001b[39m\u001b[33m'\u001b[39m\u001b[33md function\u001b[39m\u001b[33m\"\u001b[39m, name),\n\u001b[32m   1771\u001b[39m                         (\u001b[33m\"\u001b[39m\u001b[33min_shardings\u001b[39m\u001b[33m\"\u001b[39m, in_shardings),\n\u001b[32m   1772\u001b[39m                         (\u001b[33m\"\u001b[39m\u001b[33mout_shardings\u001b[39m\u001b[33m\"\u001b[39m, out_shardings),\n\u001b[32m   (...)\u001b[39m\u001b[32m   1775\u001b[39m                         (\u001b[33m\"\u001b[39m\u001b[33mabstract args\u001b[39m\u001b[33m\"\u001b[39m, \u001b[38;5;28mmap\u001b[39m(core.abstractify, args)),\n\u001b[32m   1776\u001b[39m                         (\u001b[33m\"\u001b[39m\u001b[33mfingerprint\u001b[39m\u001b[33m\"\u001b[39m, fingerprint))\n\u001b[32m-> \u001b[39m\u001b[32m1777\u001b[39m \u001b[38;5;28;01mreturn\u001b[39;00m compiled.unsafe_call(*args), compiled, pgle_profiler\n",
      "\u001b[36mFile \u001b[39m\u001b[32m/opt/miniconda3/lib/python3.13/site-packages/jax/_src/profiler.py:354\u001b[39m, in \u001b[36mannotate_function.<locals>.wrapper\u001b[39m\u001b[34m(*args, **kwargs)\u001b[39m\n\u001b[32m    351\u001b[39m \u001b[38;5;129m@wraps\u001b[39m(func)\n\u001b[32m    352\u001b[39m \u001b[38;5;28;01mdef\u001b[39;00m\u001b[38;5;250m \u001b[39m\u001b[34mwrapper\u001b[39m(*args, **kwargs):\n\u001b[32m    353\u001b[39m   \u001b[38;5;28;01mwith\u001b[39;00m TraceAnnotation(name, **decorator_kwargs):\n\u001b[32m--> \u001b[39m\u001b[32m354\u001b[39m     \u001b[38;5;28;01mreturn\u001b[39;00m func(*args, **kwargs)\n",
      "\u001b[36mFile \u001b[39m\u001b[32m/opt/miniconda3/lib/python3.13/site-packages/jax/_src/interpreters/pxla.py:1296\u001b[39m, in \u001b[36mExecuteReplicated.__call__\u001b[39m\u001b[34m(self, *args)\u001b[39m\n\u001b[32m   1293\u001b[39m \u001b[38;5;28;01mif\u001b[39;00m (\u001b[38;5;28mself\u001b[39m.ordered_effects \u001b[38;5;129;01mor\u001b[39;00m \u001b[38;5;28mself\u001b[39m.has_unordered_effects\n\u001b[32m   1294\u001b[39m     \u001b[38;5;129;01mor\u001b[39;00m \u001b[38;5;28mself\u001b[39m.has_host_callbacks):\n\u001b[32m   1295\u001b[39m   input_bufs = \u001b[38;5;28mself\u001b[39m._add_tokens_to_inputs(input_bufs)\n\u001b[32m-> \u001b[39m\u001b[32m1296\u001b[39m   results = \u001b[38;5;28mself\u001b[39m.xla_executable.execute_sharded(\n\u001b[32m   1297\u001b[39m       input_bufs, with_tokens=\u001b[38;5;28;01mTrue\u001b[39;00m\n\u001b[32m   1298\u001b[39m   )\n\u001b[32m   1300\u001b[39m   result_token_bufs = results.disassemble_prefix_into_single_device_arrays(\n\u001b[32m   1301\u001b[39m       \u001b[38;5;28mlen\u001b[39m(\u001b[38;5;28mself\u001b[39m.ordered_effects))\n\u001b[32m   1302\u001b[39m   sharded_runtime_token = results.consume_token()\n",
      "\u001b[31mKeyboardInterrupt\u001b[39m: "
     ]
    }
   ],
   "source": [
    "cf.train(num_iterations=10, batch_size = 512)"
   ]
  },
  {
   "cell_type": "code",
   "execution_count": null,
   "id": "b253b619",
   "metadata": {},
   "outputs": [],
   "source": [
    "# cf.predict(test, covariate_data=, sample_rep = \"X\", key_added_prefix = \"pred_\")"
   ]
  }
 ],
 "metadata": {
  "kernelspec": {
   "display_name": "base",
   "language": "python",
   "name": "python3"
  },
  "language_info": {
   "codemirror_mode": {
    "name": "ipython",
    "version": 3
   },
   "file_extension": ".py",
   "mimetype": "text/x-python",
   "name": "python",
   "nbconvert_exporter": "python",
   "pygments_lexer": "ipython3",
   "version": "3.13.5"
  }
 },
 "nbformat": 4,
 "nbformat_minor": 5
}
