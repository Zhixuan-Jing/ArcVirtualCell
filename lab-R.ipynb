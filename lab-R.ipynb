{
 "cells": [
  {
   "cell_type": "code",
   "execution_count": 31,
   "id": "36da2363",
   "metadata": {
    "vscode": {
     "languageId": "r"
    }
   },
   "outputs": [
    {
     "name": "stderr",
     "output_type": "stream",
     "text": [
      "Using GitHub PAT from the git credential store.\n",
      "\n",
      "Downloading GitHub repo mojaveazure/seurat-disk@HEAD\n",
      "\n"
     ]
    },
    {
     "name": "stdout",
     "output_type": "stream",
     "text": [
      "spatstat.... (3.4-1  -> 3.5-0  ) [CRAN]\n",
      "bit          (NA     -> 4.6.0  ) [CRAN]\n",
      "spatstat.... (3.4-3  -> 3.5-2  ) [CRAN]\n",
      "reticulate   (1.42.0 -> 1.43.0 ) [CRAN]\n",
      "bit64        (NA     -> 4.6.0-1) [CRAN]\n",
      "hdf5r        (NA     -> 1.3.12 ) [CRAN]\n"
     ]
    },
    {
     "name": "stderr",
     "output_type": "stream",
     "text": [
      "Installing 6 packages: spatstat.geom, bit, spatstat.explore, reticulate, bit64, hdf5r\n",
      "\n"
     ]
    },
    {
     "name": "stdout",
     "output_type": "stream",
     "text": [
      "package 'spatstat.geom' successfully unpacked and MD5 sums checked\n"
     ]
    },
    {
     "name": "stderr",
     "output_type": "stream",
     "text": [
      "Warning message:\n",
      "\"cannot remove prior installation of package 'spatstat.geom'\"\n",
      "Warning message in file.copy(savedcopy, lib, recursive = TRUE):\n",
      "\"problem copying E:\\R-4.5.1\\library\\00LOCK\\spatstat.geom\\libs\\x64\\spatstat.geom.dll to E:\\R-4.5.1\\library\\spatstat.geom\\libs\\x64\\spatstat.geom.dll: Permission denied\"\n",
      "Warning message:\n",
      "\"restored 'spatstat.geom'\"\n"
     ]
    },
    {
     "name": "stdout",
     "output_type": "stream",
     "text": [
      "package 'bit' successfully unpacked and MD5 sums checked\n",
      "package 'spatstat.explore' successfully unpacked and MD5 sums checked\n"
     ]
    },
    {
     "name": "stderr",
     "output_type": "stream",
     "text": [
      "Warning message:\n",
      "\"cannot remove prior installation of package 'spatstat.explore'\"\n",
      "Warning message in file.copy(savedcopy, lib, recursive = TRUE):\n",
      "\"problem copying E:\\R-4.5.1\\library\\00LOCK\\spatstat.explore\\libs\\x64\\spatstat.explore.dll to E:\\R-4.5.1\\library\\spatstat.explore\\libs\\x64\\spatstat.explore.dll: Permission denied\"\n",
      "Warning message:\n",
      "\"restored 'spatstat.explore'\"\n"
     ]
    },
    {
     "name": "stdout",
     "output_type": "stream",
     "text": [
      "package 'reticulate' successfully unpacked and MD5 sums checked\n"
     ]
    },
    {
     "name": "stderr",
     "output_type": "stream",
     "text": [
      "Warning message:\n",
      "\"cannot remove prior installation of package 'reticulate'\"\n",
      "Warning message in file.copy(savedcopy, lib, recursive = TRUE):\n",
      "\"problem copying E:\\R-4.5.1\\library\\00LOCK\\reticulate\\libs\\x64\\reticulate.dll to E:\\R-4.5.1\\library\\reticulate\\libs\\x64\\reticulate.dll: Permission denied\"\n",
      "Warning message:\n",
      "\"restored 'reticulate'\"\n"
     ]
    },
    {
     "name": "stdout",
     "output_type": "stream",
     "text": [
      "package 'bit64' successfully unpacked and MD5 sums checked\n",
      "package 'hdf5r' successfully unpacked and MD5 sums checked\n",
      "\n",
      "The downloaded binary packages are in\n",
      "\tC:\\Users\\zhixu\\AppData\\Local\\Temp\\RtmpqmvILP\\downloaded_packages\n",
      "\u001b[36m──\u001b[39m \u001b[36mR CMD build\u001b[39m \u001b[36m─────────────────────────────────────────────────────────────────\u001b[39m\n",
      "* checking for file 'C:\\Users\\zhixu\\AppData\\Local\\Temp\\RtmpqmvILP\\remotes90ec34415f0\\mojaveazure-seurat-disk-877d4e1/DESCRIPTION' ... OK\n",
      "* preparing 'SeuratDisk':\n",
      "* checking DESCRIPTION meta-information ... OK\n",
      "* checking for LF line-endings in source and make files and shell scripts\n",
      "* checking for empty or unneeded directories\n",
      "Omitted 'LazyData' from DESCRIPTION\n",
      "* building 'SeuratDisk_0.0.0.9021.tar.gz'\n",
      "\n"
     ]
    }
   ],
   "source": [
    "remotes::install_github(\"mojaveazure/seurat-disk\", repos = \"https://mirrors.tuna.tsinghua.edu.cn/CRAN/\")"
   ]
  },
  {
   "cell_type": "code",
   "execution_count": 32,
   "id": "29c0b896",
   "metadata": {
    "vscode": {
     "languageId": "r"
    }
   },
   "outputs": [
    {
     "name": "stderr",
     "output_type": "stream",
     "text": [
      "Registered S3 method overwritten by 'SeuratDisk':\n",
      "  method            from  \n",
      "  as.sparse.H5Group Seurat\n",
      "\n"
     ]
    }
   ],
   "source": [
    "library(Seurat)\n",
    "library(SeuratDisk)\n",
    "load(\"../Workspace/sample_data/merged_GEJ_harmony_dims30_res0.5.Rdata\")"
   ]
  },
  {
   "cell_type": "code",
   "execution_count": 33,
   "id": "49545dd8",
   "metadata": {
    "vscode": {
     "languageId": "r"
    }
   },
   "outputs": [
    {
     "data": {
      "text/plain": [
       "An object of class Seurat \n",
       "29929 features across 6846 samples within 1 assay \n",
       "Active assay: RNA (29929 features, 2000 variable features)\n",
       " 3 layers present: counts, data, scale.data\n",
       " 4 dimensional reductions calculated: pca, umap, tsne, harmony"
      ]
     },
     "metadata": {},
     "output_type": "display_data"
    }
   ],
   "source": [
    "GEJ_harmony"
   ]
  },
  {
   "cell_type": "code",
   "execution_count": 34,
   "id": "1157c64b",
   "metadata": {
    "vscode": {
     "languageId": "r"
    }
   },
   "outputs": [
    {
     "name": "stderr",
     "output_type": "stream",
     "text": [
      "Creating h5Seurat file for version 3.1.5.9900\n",
      "\n",
      "Warning message:\n",
      "\"\u001b[1m\u001b[22mThe `slot` argument of `GetAssayData()` is deprecated as of SeuratObject 5.0.0.\n",
      "\u001b[36mℹ\u001b[39m Please use the `layer` argument instead.\n",
      "\u001b[36mℹ\u001b[39m The deprecated feature was likely used in the \u001b[34mSeuratDisk\u001b[39m package.\n",
      "  Please report the issue at\n",
      "  \u001b[3m\u001b[34m<https://github.com/mojaveazure/seurat-disk/issues>\u001b[39m\u001b[23m.\"\n",
      "Adding counts for RNA\n",
      "\n",
      "Adding data for RNA\n",
      "\n",
      "Adding scale.data for RNA\n",
      "\n",
      "Adding variable features for RNA\n",
      "\n",
      "Adding feature-level metadata for RNA\n",
      "\n",
      "Adding cell embeddings for pca\n",
      "\n",
      "Adding loadings for pca\n",
      "\n",
      "No projected loadings for pca\n",
      "\n",
      "Adding standard deviations for pca\n",
      "\n",
      "No JackStraw data for pca\n",
      "\n",
      "Adding cell embeddings for umap\n",
      "\n",
      "No loadings for umap\n",
      "\n",
      "No projected loadings for umap\n",
      "\n",
      "No standard deviations for umap\n",
      "\n",
      "No JackStraw data for umap\n",
      "\n",
      "Adding cell embeddings for tsne\n",
      "\n",
      "No loadings for tsne\n",
      "\n",
      "No projected loadings for tsne\n",
      "\n",
      "No standard deviations for tsne\n",
      "\n",
      "No JackStraw data for tsne\n",
      "\n",
      "Adding cell embeddings for harmony\n",
      "\n",
      "Adding loadings for harmony\n",
      "\n",
      "Adding projected loadings for harmony\n",
      "\n",
      "Adding standard deviations for harmony\n",
      "\n",
      "No JackStraw data for harmony\n",
      "\n",
      "Validating h5Seurat file\n",
      "\n",
      "Adding scale.data from RNA as X\n",
      "\n",
      "Transfering meta.features to var\n",
      "\n",
      "Adding data from RNA as raw\n",
      "\n",
      "Transfering meta.features to raw/var\n",
      "\n",
      "Transfering meta.data to obs\n",
      "\n",
      "Adding dimensional reduction information for harmony\n",
      "\n",
      "Adding feature loadings for harmony\n",
      "\n",
      "Adding dimensional reduction information for pca\n",
      "\n",
      "Adding feature loadings for pca\n",
      "\n",
      "Adding dimensional reduction information for tsne\n",
      "\n",
      "Adding dimensional reduction information for umap\n",
      "\n",
      "Adding RNA_snn as neighbors\n",
      "\n"
     ]
    }
   ],
   "source": [
    "SaveH5Seurat(GEJ_harmony, filename = \"GEJ_harmony.H5Seurat\")\n",
    "Convert(\"GEJ_harmony.H5Seurat\", dest = \"GEJ_harmony.h5ad\")"
   ]
  }
 ],
 "metadata": {
  "kernelspec": {
   "display_name": "R",
   "language": "R",
   "name": "ir"
  },
  "language_info": {
   "codemirror_mode": "r",
   "file_extension": ".r",
   "mimetype": "text/x-r-source",
   "name": "R",
   "pygments_lexer": "r",
   "version": "4.5.1"
  }
 },
 "nbformat": 4,
 "nbformat_minor": 5
}
